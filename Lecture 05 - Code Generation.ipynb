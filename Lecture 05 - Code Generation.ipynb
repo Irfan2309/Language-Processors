{
 "cells": [
  {
   "cell_type": "markdown",
   "id": "187e4521",
   "metadata": {},
   "source": [
    "# Code Generation"
   ]
  },
  {
   "cell_type": "markdown",
   "id": "46918d5b",
   "metadata": {},
   "source": [
    "The following code allows us to use the previously defined lexer/parser:"
   ]
  },
  {
   "cell_type": "code",
   "execution_count": null,
   "id": "62332b2c",
   "metadata": {},
   "outputs": [],
   "source": [
    "#require \"jupyter.notebook\" ;;\n",
    "\n",
    "open Jupyter_notebook;;\n",
    "\n",
    "Process.sh \"ocamllex simp.mll\";;\n",
    "Process.sh \"ocamlc -c simp.ml\";;\n",
    "\n",
    "#use \"psimp.ml\""
   ]
  },
  {
   "cell_type": "markdown",
   "id": "9d5fe7d3",
   "metadata": {},
   "source": [
    "## Representing MIPS Code in OCaml"
   ]
  },
  {
   "cell_type": "markdown",
   "id": "c36a8d6e",
   "metadata": {},
   "source": [
    "We define registers as type synomym to ``int``, and define several aliases for the mnemonics: "
   ]
  },
  {
   "cell_type": "code",
   "execution_count": null,
   "id": "f3795302",
   "metadata": {},
   "outputs": [],
   "source": [
    "(* We represent registers as numbers. Registers are represented by 0 to 31. *)\n",
    "type register = int\n",
    "\n",
    "(* Value returned by a subroutine *)\n",
    "let v0 : register = 2 \n",
    "let v1 : register = 3 \n",
    "\n",
    "(* Arguments to subroutine *)\n",
    "let a0 : register = 4 \n",
    "let a1 : register = 5\n",
    "let a2 : register = 6\n",
    "let a3 : register = 7\n",
    "\n",
    "(* Temporary registers *)\n",
    "let t0 : register = 8\n",
    "let t1 : register = 9\n",
    "let t2 : register = 10\n",
    "let t3 : register = 11\n",
    "let t4 : register = 12\n",
    "let t5 : register = 13\n",
    "let t6 : register = 14\n",
    "let t7 : register = 15\n",
    "\n",
    "(* Saved registers *)\n",
    "let s0 : register = 16\n",
    "let s1 : register = 17 \n",
    "let s2 : register = 18 \n",
    "let s3 : register = 19 \n",
    "let s4 : register = 20 \n",
    "let s5 : register = 21\n",
    "let s6 : register = 22 \n",
    "let s7 : register = 23 \n",
    "\n",
    "(* Temporary registers $t8 and $t9 will be used for interemdiate results. *)\n",
    "let t8 : register = 24 (* $t8 *)\n",
    "let t9 : register = 25 (* $t9 *)\n",
    "\n",
    "let (sp : register) = 29 (* stack pointer *)\n",
    "let (fp : register) = 30 (* frame pointer *)\n",
    "let (ra : register) = 31 (* return address *)"
   ]
  },
  {
   "attachments": {},
   "cell_type": "markdown",
   "id": "355c0d92",
   "metadata": {},
   "source": [
    "Instructions are represented as an abstract data type.\n",
    "\n",
    "See https://www.dsi.unive.it/~gasparetto/materials/MIPS_Instruction_Set.pdf for full explanation."
   ]
  },
  {
   "cell_type": "code",
   "execution_count": null,
   "id": "ad4a513c",
   "metadata": {},
   "outputs": [],
   "source": [
    "(* We represent instructions as an abstract data type. *)\n",
    "\n",
    "type label = string\n",
    "\n",
    "type instruction =  Add of register * register * register (* add $1, $2, $3 - $1 = $2 + $3 *)\n",
    "                   | Sub of register * register * register (* sub $1, $2, $3 - $1 = $2 - $3 *)\n",
    "                   | Addi of register * register * int (* addi $1, $2, 100 - $1 = $2 + 100, immediate means a constant number  *)\n",
    "                   | Addiu of register * register * int (* addi $1, $2, 100 - $1 = $2 + 100, values treated as unsigned, immediate means a constant number  *)\n",
    "                   | Mul of register * register * register (* mul $1, $2, $3 - $1 = $2 * $3, without overflow, result is only 32 bits *)\n",
    "                   | Div of register * register * register (* div $1, $2, $3 - $1 = $2 / $3  *)\n",
    "                   | And of register * register * register (* and $1, $2, $3 - bitwise AND *)\n",
    "                   | Or of register * register * register (* or $1, $2, $3 - bitwise OR *)\n",
    "                   | Andi of register * register * int (* andi $1, $2, 100 - $1 = $2 + 100, bitwise AND with immediate value  *)\n",
    "                   | Ori of register * register * int (* ori $1, $2, 100 - $1 = $2 - 100, bitwise OR with immediate value  *)\n",
    "                   | Lw of register * int * register (* lw $1, 100 ($2) - load word, $1 = Memory[$2 + 100], copy from memory to register *)\n",
    "                   | Sw of register * int * register (* sw $1, 100 ($2) - store word, Memory[$2 + 100] = $1, copy from register to memory *)\n",
    "                   | La of register * label (* $1 = Address of label *) \n",
    "                   | Li of register * int (* li $1, 100 - Loads immediate value into register *)\n",
    "                   | Move of register * register (* move $1,$2 - $1 = $2, Copy from register to register *)\n",
    "                   | Label of label \n",
    "                   | Beq of register * register * string (* beq $1, $2, l - if ($1 == $2) go to label l *)\n",
    "                   | Bne of register * register * string (* bne $1, $2, l - if ($1 != $2) go to label l *)\n",
    "                   | Bgt of register * register * string (* bgt $1, $2, l - if ($1 > $2) go to label l *)\n",
    "                   | Blt of register * register * string (* blt $1, $2, l - if ($1 < $2) go to label l *)\n",
    "                   | Bge of register * register * string (* bge $1, $2, l - if ($1 >= $2) go to label l *)\n",
    "                   | Ble of register * register * string (* ble $1, $2, l - if ($1 <= $2) go to label l *)                  \n",
    "                   | J of label (* j l, go to label l, jumpt to target address *)\n",
    "                   | Jr of register (* jump register, jr $1, go to address stored in $1 *)\n",
    "                   | Jal of label (* jump and link, e.g. jal l - $ra=PC+4; go to label l - used when making procedure call. This saves the return address in $ra.  *)\n",
    "                   | SysCall \n",
    "                   | Comment of string "
   ]
  },
  {
   "cell_type": "markdown",
   "id": "d099c44f",
   "metadata": {},
   "source": [
    "MIPS code is simply a list of instructions:"
   ]
  },
  {
   "cell_type": "code",
   "execution_count": null,
   "id": "cc600abe",
   "metadata": {},
   "outputs": [],
   "source": [
    "type code = instruction list"
   ]
  },
  {
   "cell_type": "markdown",
   "id": "adbe556a",
   "metadata": {},
   "source": [
    "The following code prints instructions so that they are readible to the MIPS interpreter (https://cpulator.01xz.net/?sys=mipsr5b-spim). "
   ]
  },
  {
   "cell_type": "code",
   "execution_count": null,
   "id": "24274aae",
   "metadata": {},
   "outputs": [],
   "source": [
    "let print_register (r : register) = \n",
    "    match r with \n",
    "    | 2 | 3 -> \"$v\" ^ (string_of_int (r - v0)) \n",
    "    | 4 |5 |6 | 7 -> \"$a\" ^ string_of_int (r - a0)\n",
    "    | 8|9|10|11|12|13|14|15 -> \"$t\" ^ string_of_int (r - t0) \n",
    "    | 16|17|18|19|20|21|22|23 -> \"$s\" ^ string_of_int (r - s0)\n",
    "    | 24 -> \"$t8\"\n",
    "    | 25 -> \"$t9\"\n",
    "    | 29 -> \"$sp\"\n",
    "    | 30 -> \"$fp\"\n",
    "    | 31 -> \"$ra\"\n",
    "    | _ -> \"$\" ^ string_of_int r\n",
    "\n",
    "let print_instruction (i : instruction) = match i with \n",
    "    | Add (r1, r2, r3) -> \"add \" ^ print_register r1 ^ \", \" ^ print_register r2 ^ \", \" ^ print_register r3\n",
    "    | Sub (r1, r2, r3) -> \"sub \" ^ print_register r1 ^ \", \" ^ print_register r2 ^ \", \" ^ print_register r3\n",
    "    | Addi (r1, r2, i) -> \"addi \" ^ print_register r1 ^ \", \" ^ print_register r2 ^ \", \" ^ string_of_int i\n",
    "    | Addiu (r1, r2, i) -> \"addiu \" ^ print_register r1 ^ \", \" ^ print_register r2 ^ \", \" ^ string_of_int i\n",
    "    | Mul (r1, r2, r3) -> \"mul \" ^ print_register r1 ^ \", \" ^ print_register r2 ^ \", \" ^ print_register r3\n",
    "    | Div (r1, r2, r3) -> \"sub \" ^ print_register r1 ^ \", \" ^ print_register r2 ^ \", \" ^ print_register r3\n",
    "    | Beq (r1, r2, l) ->  \"beq \" ^ print_register r1 ^ \", \" ^ print_register r2 ^ \", \" ^ l\n",
    "    | Bne (r1, r2, l) ->  \"bne \" ^ print_register r1 ^ \", \" ^ print_register r2 ^ \", \" ^ l\n",
    "    | Bgt (r1, r2, l) ->  \"bgt \" ^ print_register r1 ^ \", \" ^ print_register r2 ^ \", \" ^ l\n",
    "    | Blt (r1, r2, l) ->  \"blt \" ^ print_register r1 ^ \", \" ^ print_register r2 ^ \", \" ^ l\n",
    "    | Bge (r1, r2, l) ->  \"bge \" ^ print_register r1 ^ \", \" ^ print_register r2 ^ \", \" ^ l\n",
    "    | Ble (r1, r2, l) ->  \"ble \" ^ print_register r1 ^ \", \" ^ print_register r2 ^ \", \" ^ l\n",
    "    | Li (r, i) -> \"li \" ^ print_register r ^ \", \" ^ string_of_int i\n",
    "    | Lw (r1, o, r2) -> \"lw \" ^ print_register r1 ^ \", \" ^ string_of_int o ^ \"(\" ^ print_register r2 ^ \")\" \n",
    "    | La (r, l) -> \"la \" ^ print_register r ^ \", \" ^  l\n",
    "    | Sw (r1, o, r2) -> \"sw \" ^ print_register r1 ^ \", \" ^ string_of_int o ^ \"(\" ^ print_register r2 ^ \")\" \n",
    "    | Comment s -> s\n",
    "    | Move (r1, r2) -> \"move \" ^ print_register r1 ^ \", \" ^ print_register r2\n",
    "    | And (r1, r2, r3) -> \"and \" ^ print_register r1 ^ \", \" ^ print_register r2 ^ \", \" ^ print_register r3\n",
    "    | Andi (r1, r2, r3) -> \"andi \" ^ print_register r1 ^ \", \" ^ print_register r2 ^ \", \" ^ print_register r3\n",
    "    | Or (r1, r2, r3) -> \"or \" ^ print_register r1 ^ \", \" ^ print_register r2 ^ \", \" ^ print_register r3\n",
    "    | Ori (r1, r2, r3) -> \"ori \" ^ print_register r1 ^ \", \" ^ print_register r2 ^ \", \" ^ print_register r3\n",
    "    | SysCall -> \"syscall\"\n",
    "    | Label l -> l ^ \":\"\n",
    "    | J label -> \"j \" ^ label \n",
    "    | Jr r -> \"jr \" ^ print_register r\n",
    "    | Jal label -> \"jal \" ^ label\n",
    "\n",
    "let rec print_code (c : code) : unit = match c with \n",
    "    | [] -> ()\n",
    "    | c :: cs -> (print_endline (print_instruction c); print_code cs)"
   ]
  },
  {
   "cell_type": "markdown",
   "id": "7ac10db4",
   "metadata": {},
   "source": [
    "E.g., you can load the following code into the MIPS interpreter (https://cpulator.01xz.net/?sys=mipsr5b-spim). Try it out!"
   ]
  },
  {
   "cell_type": "code",
   "execution_count": null,
   "id": "240e1612",
   "metadata": {},
   "outputs": [],
   "source": [
    "print_code [Li (t7, 5); Li (t8, 4); Add (t8, t8, t9)]"
   ]
  },
  {
   "cell_type": "markdown",
   "id": "b1a1f379",
   "metadata": {},
   "source": [
    "## Compiling Expressions"
   ]
  },
  {
   "cell_type": "markdown",
   "id": "b3a723c3",
   "metadata": {},
   "source": [
    "The following code implement push/pop operations:"
   ]
  },
  {
   "cell_type": "code",
   "execution_count": null,
   "id": "6fae08e1",
   "metadata": {},
   "outputs": [],
   "source": [
    "(* An exception to be used *)\n",
    "exception E of string\n",
    "\n",
    "(* Pushing the content of register r to the stack *)\n",
    "let push (r : register) : code = [Addiu (sp, sp, -4);\n",
    "                                  Sw (r, 0, sp)]\n",
    "\n",
    "(* Popping the stack into register r *)\n",
    "let pop (r : register) : code = [Lw (r, 0, sp);\n",
    "                                 Addiu (sp, sp, 4)]"
   ]
  },
  {
   "cell_type": "markdown",
   "id": "f5bbeedf",
   "metadata": {},
   "source": [
    "We can define compilation of expressions by traversing the abstract syntax tree:"
   ]
  },
  {
   "cell_type": "code",
   "execution_count": null,
   "id": "49e98698",
   "metadata": {},
   "outputs": [],
   "source": [
    "let compile_op (o : op) r1 r2 r = match o with \n",
    "    | Plus -> Add (r1, r2, r)\n",
    "    | Minus -> Sub (r1, r2, r)\n",
    "    | _ -> raise (E \"Not known.\") \n",
    "\n",
    "let rec compile_exp (r : register) (e : exp) : code = match e with \n",
    "    | Numb n -> [Li (r, n)]\n",
    "    | Op (e1, o, e2) -> compile_exp t8 e1\n",
    "                        @ push t8\n",
    "                        @ compile_exp t9 e2\n",
    "                        @ pop t8\n",
    "                        @ [compile_op o r t8 t9]\n",
    "    | _ -> raise (E \"not known\");;"
   ]
  },
  {
   "cell_type": "code",
   "execution_count": null,
   "id": "fc0367fc",
   "metadata": {},
   "outputs": [],
   "source": [
    "print_code ((compile_exp s0 (Op (Numb 3, Plus, (Op (Numb 5, Plus, Numb 4))))));;"
   ]
  },
  {
   "cell_type": "markdown",
   "id": "d0b37e4f",
   "metadata": {},
   "source": [
    "## Variables and Assignments"
   ]
  },
  {
   "cell_type": "code",
   "execution_count": null,
   "id": "5e6765f6",
   "metadata": {},
   "outputs": [],
   "source": [
    "exception EEnv of string\n",
    "\n",
    "let maxreg = 15\n",
    "\n",
    "(*  Function that finds the largest register in the environment. *)\n",
    "let find_max_register (env : int Env.t) = \n",
    "    Env.fold (fun _ a b -> max a b) env (s0 -1) \n",
    "\n",
    "\n",
    "(* Declaring a variable: \n",
    "  - When trying to declare a variable, and there are too many registers already \n",
    "    reserved, throw an exception. \n",
    "  - Else: Assign to variable x the largest register number + 1.\n",
    "*)\n",
    "let declare_var (env: int Env.t) (x:string) : int Env.t = \n",
    "    if (find_max_register env) >= (s0 + maxreg)\n",
    "     then raise (EEnv \"Too many variables\")\n",
    "     else Env.add x (1 + find_max_register env) env"
   ]
  },
  {
   "cell_type": "code",
   "execution_count": null,
   "id": "eb71747a",
   "metadata": {},
   "outputs": [],
   "source": [
    "Env.find \"b\"  (declare_var (declare_var Env.empty \"b\") \"a\");;\n",
    "\n",
    "Env.find \"a\"  (declare_var (declare_var Env.empty \"b\") \"a\");;"
   ]
  },
  {
   "cell_type": "code",
   "execution_count": null,
   "id": "2d10a79e",
   "metadata": {},
   "outputs": [],
   "source": [
    "let compile_op (o : op) r1 r2 r = match o with \n",
    "    | Plus -> Add (r1, r2, r)\n",
    "    | Minus -> Sub (r1, r2, r)\n",
    "    | _ -> raise (E \"Not implemented.\") \n",
    "\n",
    "let rec compile_exp env (r : register) (e : exp)  : code = match e with \n",
    "    | Id s -> [Move (r, Env.find s env)]\n",
    "    | Numb n -> [Li (r, n)]\n",
    "    | Neg e -> raise (E \"Not implemented.\")\n",
    "    | Op (e1, o, e2) -> compile_exp env t8 e1\n",
    "                        @ push t8\n",
    "                        @ compile_exp env t9 e2\n",
    "                        @ pop t8\n",
    "                        @ [compile_op o r t8 t9];;"
   ]
  },
  {
   "cell_type": "markdown",
   "id": "a2eaa2b1",
   "metadata": {},
   "source": [
    "Compiling expressions: An expression will be translated into a sequence of instructions. \n",
    "This will create a value that we store in the given register."
   ]
  },
  {
   "cell_type": "code",
   "execution_count": null,
   "id": "df24131f",
   "metadata": {},
   "outputs": [],
   "source": [
    "let rec compile_dcls env (dcls : string list)  = match dcls with \n",
    "    | [] -> env \n",
    "    | dcl :: dcls' -> let env' = declare_var env dcl \n",
    "                      in compile_dcls env' dcls'\n",
    "\n",
    "let compile_cmd env (c : cmd) : code = match c with \n",
    "    | Asgn (s, e) -> compile_exp env (Env.find s env) e\n",
    "    | _ -> raise (E \"Not implemented.\")\n",
    "\n",
    "let rec compile_cmds env (cs : cmd list) : code = match cs with \n",
    "    | [] -> [] \n",
    "    | c :: cs -> compile_cmd env c @ compile_cmds env cs\n",
    "    \n",
    "\n",
    "let compile_program (p : program) = match p with \n",
    "    | Program (dcls, cmds) -> let env = compile_dcls Env.empty dcls in     \n",
    "        [Comment \".set noreorder\"; Comment \".text\"; Label \"_start\"]\n",
    "        @ compile_cmds env cmds\n",
    "        @ [Li (v0, 10); SysCall]"
   ]
  },
  {
   "cell_type": "code",
   "execution_count": null,
   "id": "2ab5b431",
   "metadata": {},
   "outputs": [],
   "source": [
    "let p = \"\n",
    "VAR A;\n",
    "VAR B;\n",
    "VAR C;\n",
    "VAR D;\n",
    "VAR Z; \n",
    "A := 128; \n",
    "B := 64;\n",
    "C := 32;\n",
    "D := 16; \n",
    "Z := (A + B) + (C + D)\n",
    "\"\n",
    "\n",
    "\n",
    "let mips =  (print_code (compile_program (parse_string p)));;"
   ]
  },
  {
   "cell_type": "markdown",
   "id": "4a8207ca",
   "metadata": {},
   "source": [
    "## Compiling SIMP\n",
    "\n",
    "See the slides for an explanation."
   ]
  },
  {
   "cell_type": "code",
   "execution_count": null,
   "id": "c4d0f520",
   "metadata": {},
   "outputs": [],
   "source": [
    "let counter : int ref = {contents = 0}\n",
    "\n",
    "(* Gives us a unique number every time *)\n",
    "let next_val = \n",
    "    fun () ->\n",
    "      counter := (!counter) + 1;\n",
    "      !counter;;\n",
    "\n",
    "let compile_op (o : op) r1 r2 r = match o with \n",
    "    | Plus -> Add (r1, r2, r)\n",
    "    | Minus -> Sub (r1, r2, r)\n",
    "    | Mult -> Mul (r1, r2, r) \n",
    "    | Div -> Div (r1, r2, r) \n",
    "\n",
    "let rec compile_exp env (r : register) (e : exp) : code = match e with \n",
    "    | Id s -> [Move (r, Env.find s env)]\n",
    "    | Numb n -> [Li (r, n)]\n",
    "    | Neg e -> raise (EEnv \"Neg not implemented.\")\n",
    "    | Op (e1, o, e2) -> compile_exp env t8 e1\n",
    "                        @ push t8\n",
    "                        @ compile_exp env t9 e2\n",
    "                        @ pop t8\n",
    "                        @ [compile_op o r t8 t9];;\n",
    "\n",
    "\n",
    "let compile_nop o r1 r2 label = match o with \n",
    "    | Lt -> Bge (r1, r2, label)\n",
    "    | Lte -> Bgt (r1, r2, label)\n",
    "    | Gte -> Blt (r1, r2, label)\n",
    "    | Gt -> Ble (r1, r2, label)\n",
    "    | Eq -> Bne (r1, r2, label)\n",
    "    | Neq -> Beq (r1, r2, label)\n",
    "    \n",
    "let compile_cond env o e1 e2 label =   \n",
    "    compile_exp env t8 e1\n",
    "    @ push t8\n",
    "    @ compile_exp env t9 e2\n",
    "    @ pop t8\n",
    "    @ [compile_nop o t8 t9 label]\n",
    "    \n",
    "\n",
    "let rec compile_dcls env dcls = match dcls with \n",
    "    | [] -> env \n",
    "    | dcl :: dcls' -> let env' = declare_var env dcl \n",
    "                      in compile_dcls env' dcls'\n",
    "\n",
    "let rec compile_cmd env (c : cmd) : code = match c with \n",
    "    | If (e, c) -> (let label = \"IFEND\" ^ string_of_int (next_val ()) in\n",
    "                    match e with \n",
    "                    | Cop (e1, o, e2) -> compile_cond env o e1 e2 label\n",
    "                                        @ compile_cmd env c\n",
    "                                        @ [Label label])\n",
    "    | Ite (e, c1, c2) -> (let counter = string_of_int (next_val ()) in\n",
    "                            let label_end = \"IFEND\" ^ counter in\n",
    "                            let label_false = \"IFFALSE\" ^ counter in\n",
    "                match e with \n",
    "                | Cop (e1, o, e2) -> compile_cond env o e1 e2 label_false\n",
    "                                    @ compile_cmd env c1\n",
    "                                    @ [J label_end]\n",
    "                                    @ [Label label_false]\n",
    "                                    @ compile_cmd env c2\n",
    "                                    @ [Label label_end])\n",
    "    | While (e, c) -> ( let counter = string_of_int (next_val ()) in\n",
    "                        let label_loop = \"WLOOP\" ^ counter in\n",
    "                        let label_end = \"WEND\" ^ counter in\n",
    "                match e with \n",
    "                | Cop (e1, o, e2) -> [Label label_loop]\n",
    "                                    @ compile_cond env o e1 e2 label_end\n",
    "                                    @ compile_cmd env c\n",
    "                                    @ [J label_loop]\n",
    "                                    @ [Label label_end])\n",
    "    | Asgn (s, e) -> compile_exp env (Env.find s env) e\n",
    "    | Begin (Program (dcls, cmds)) -> let env' = compile_dcls env dcls in\n",
    "                                      compile_cmds env' cmds \n",
    "    | Print e -> [Li (v0, 1)] \n",
    "                 @ compile_exp env a0 e\n",
    "                 @ [SysCall]\n",
    "    | Input s -> let s_register = Env.find s env in \n",
    "                 [Li (v0, 4); La (a0, \"sinp\"); SysCall; Li (v0, 5); SysCall; Move (s_register, v0)]\n",
    "\n",
    "and compile_cmds env (cs : cmd list) : code = match cs with \n",
    "    | [] -> [] \n",
    "    | c :: cs -> compile_cmd env c @ compile_cmds env cs\n",
    "    \n",
    "\n",
    "\n",
    "let compile_program (p : program) = match p with \n",
    "    | Program (dcls, cmds) -> let env = compile_dcls Env.empty dcls in     \n",
    "        [Comment \".set noreorder\"; Comment \".data\"; Label \"sinp\"; Comment \".asciiz \\\"INPUT>\\\"  \"; Comment \".text\"; Label \"_start\"]\n",
    "        @ compile_cmds env cmds\n",
    "        @ [Li (v0, 10); SysCall]\n",
    "        "
   ]
  },
  {
   "cell_type": "code",
   "execution_count": null,
   "id": "25411347",
   "metadata": {},
   "outputs": [],
   "source": [
    "let example_if = \"\n",
    "VAR A; \n",
    "VAR MAX;\n",
    "IF A > MAX THEN MAX := A\n",
    "\"\n",
    "\n",
    "let mips =  (print_code (compile_program (parse_string example_if)));;"
   ]
  },
  {
   "cell_type": "code",
   "execution_count": null,
   "id": "9d2b1d20",
   "metadata": {},
   "outputs": [],
   "source": [
    "let example_ite = \"\n",
    "VAR A; \n",
    "VAR B;\n",
    "VAR MAX;\n",
    "IF A > B THEN MAX := A ELSE MAX := B\n",
    "\"\n",
    "\n",
    "let mips =  (print_code (compile_program (parse_string example_ite)));;"
   ]
  },
  {
   "cell_type": "code",
   "execution_count": null,
   "id": "0abd5529",
   "metadata": {},
   "outputs": [],
   "source": [
    "let example_ite2 = \"\n",
    "VAR x; VAR y; VAR max;\n",
    "x := 3; \n",
    "y := 5;\n",
    "IF x > y\n",
    "THEN \n",
    "    max := x\n",
    "ELSE \n",
    "    max := y\n",
    "\"\n",
    "\n",
    "let mips =  (print_code (compile_program (parse_string example_ite2)));;"
   ]
  },
  {
   "cell_type": "code",
   "execution_count": null,
   "id": "02c14335",
   "metadata": {},
   "outputs": [],
   "source": [
    "let example_block = \"\n",
    "VAR A; VAR B; VAR C; \n",
    "A := 1; B := 2; C := 3; \n",
    "BEGIN \n",
    "    VAR A; VAR B; \n",
    "    A := 4; B := 5; C := 6; \n",
    "    BEGIN \n",
    "        VAR A; \n",
    "        A := 7; \n",
    "        B := 8; \n",
    "        C := 9 \n",
    "    END; \n",
    "    A := 10; B:= 11; C := 12\n",
    "END; \n",
    "A := 13; B := 14; C := 15\n",
    "\"\n",
    "\n",
    "let mips =  (print_code (compile_program (parse_string example_block)));;"
   ]
  },
  {
   "cell_type": "code",
   "execution_count": null,
   "id": "48257ed6",
   "metadata": {},
   "outputs": [],
   "source": [
    "let example_while = \"\n",
    "VAR n; \n",
    "n := 5; \n",
    "WHILE n > 0 DO\n",
    "BEGIN \n",
    "PRINT n; \n",
    "n := n - 1\n",
    "END\n",
    "\"\n",
    "\n",
    "let example_while = \"\n",
    "VAR n; \n",
    "n := 5; \n",
    "WHILE n > 0 DO\n",
    "BEGIN \n",
    "PRINT n; \n",
    "n := n - 1\n",
    "END\n",
    "\"\n",
    "\n",
    "let mips =  (print_code (compile_program (parse_string example_while)));;let mips =  (print_code (compile_program (parse_string example_while)));;"
   ]
  },
  {
   "cell_type": "code",
   "execution_count": null,
   "id": "bd28a82a",
   "metadata": {},
   "outputs": [],
   "source": [
    "let example_input = \"\n",
    "VAR x; \n",
    "INPUT x; \n",
    "PRINT (x * x)\n",
    "\"\n",
    "\n",
    "let mips =  (print_code (compile_program (parse_string example_input)));;"
   ]
  }
 ],
 "metadata": {
  "kernelspec": {
   "display_name": "OCaml 4.13",
   "language": "OCaml",
   "name": "ocaml-jupyter-4.13"
  },
  "language_info": {
   "codemirror_mode": "text/x-ocaml",
   "file_extension": ".ml",
   "mimetype": "text/x-ocaml",
   "name": "OCaml",
   "nbconverter_exporter": null,
   "pygments_lexer": "OCaml",
   "version": "4.13.1"
  }
 },
 "nbformat": 4,
 "nbformat_minor": 5
}
