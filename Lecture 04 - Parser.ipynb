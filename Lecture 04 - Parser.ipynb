{
 "cells": [
  {
   "cell_type": "markdown",
   "id": "44d472ac",
   "metadata": {},
   "source": [
    "# Lecture 4 - Parsers"
   ]
  },
  {
   "attachments": {},
   "cell_type": "markdown",
   "id": "aadcd9f4",
   "metadata": {},
   "source": [
    "See below the code for an easy recognizer for the grammar \n",
    "\n",
    "```\n",
    "A ::= id | B\n",
    "B ::= int | (A)\n",
    "```"
   ]
  },
  {
   "cell_type": "code",
   "execution_count": 1,
   "id": "f880d3fa",
   "metadata": {},
   "outputs": [
    {
     "data": {
      "text/plain": [
       "type token = ID of string | INT of int | LBRA | RBRA | EOF\n"
      ]
     },
     "execution_count": 1,
     "metadata": {},
     "output_type": "execute_result"
    },
    {
     "data": {
      "text/plain": [
       "exception SyntaxError of string\n"
      ]
     },
     "execution_count": 1,
     "metadata": {},
     "output_type": "execute_result"
    },
    {
     "data": {
      "text/plain": [
       "val parseA : token list -> token list = <fun>\n",
       "val parseB : token list -> token list = <fun>\n"
      ]
     },
     "execution_count": 1,
     "metadata": {},
     "output_type": "execute_result"
    }
   ],
   "source": [
    "type token = ID of string | INT of int | LBRA | RBRA | EOF\n",
    "\n",
    "exception SyntaxError of string\n",
    "\n",
    "let rec parseA (ts : token list) : token list = \n",
    "    match ts with \n",
    "    | ID x :: ts' -> ts'\n",
    "    | _ -> parseB ts\n",
    "    \n",
    "and parseB (ts: token list) : token list = \n",
    "    match ts with\n",
    "    | INT x :: ts' -> ts'\n",
    "    | LBRA :: ts' -> (let ts'' = parseA ts'\n",
    "                       in (match ts'' with \n",
    "                           | RBRA :: ts''' -> ts'''\n",
    "                           | _ -> raise (SyntaxError \"Expected RBRA.\")\n",
    "                           ))\n",
    "    | _ -> raise (SyntaxError \"Expected INT or LBRA\") "
   ]
  },
  {
   "cell_type": "code",
   "execution_count": 2,
   "id": "550b97ef",
   "metadata": {},
   "outputs": [
    {
     "data": {
      "text/plain": [
       "- : token list = []\n"
      ]
     },
     "execution_count": 2,
     "metadata": {},
     "output_type": "execute_result"
    }
   ],
   "source": [
    "parseA [LBRA; INT 4; RBRA]"
   ]
  },
  {
   "cell_type": "code",
   "execution_count": 3,
   "id": "2a61fb3f",
   "metadata": {},
   "outputs": [
    {
     "data": {
      "text/plain": [
       "- : token list = [LBRA; RBRA]\n"
      ]
     },
     "execution_count": 3,
     "metadata": {},
     "output_type": "execute_result"
    }
   ],
   "source": [
    "parseA [ID \"x\"; LBRA; RBRA]"
   ]
  },
  {
   "cell_type": "code",
   "execution_count": 4,
   "id": "b09bc129",
   "metadata": {},
   "outputs": [
    {
     "ename": "error",
     "evalue": "runtime_error",
     "output_type": "error",
     "traceback": [
      "\u001b[31mException: SyntaxError \"Expected INT or LBRA\".\nRaised at parseB in file \"[1]\", line 18, characters 11-53\nCalled from Stdlib__Fun.protect in file \"fun.ml\", line 33, characters 8-15\nRe-raised at Stdlib__Fun.protect in file \"fun.ml\", line 38, characters 6-52\nCalled from Topeval.load_lambda in file \"toplevel/byte/topeval.ml\", line 89, characters 4-150\n\u001b[0m"
     ]
    }
   ],
   "source": [
    "parseA [RBRA; INT 4]"
   ]
  },
  {
   "cell_type": "code",
   "execution_count": 5,
   "id": "188442ee",
   "metadata": {},
   "outputs": [
    {
     "ename": "error",
     "evalue": "runtime_error",
     "output_type": "error",
     "traceback": [
      "\u001b[31mException: SyntaxError \"Expected INT or LBRA\".\nRaised at parseB in file \"[1]\", line 18, characters 11-53\nCalled from Stdlib__Fun.protect in file \"fun.ml\", line 33, characters 8-15\nRe-raised at Stdlib__Fun.protect in file \"fun.ml\", line 38, characters 6-52\nCalled from Topeval.load_lambda in file \"toplevel/byte/topeval.ml\", line 89, characters 4-150\n\u001b[0m"
     ]
    }
   ],
   "source": [
    "parseB [ID \"x\"]"
   ]
  },
  {
   "cell_type": "code",
   "execution_count": 6,
   "id": "d0836de1",
   "metadata": {},
   "outputs": [
    {
     "data": {
      "text/plain": [
       "- : token list = []\n"
      ]
     },
     "execution_count": 6,
     "metadata": {},
     "output_type": "execute_result"
    }
   ],
   "source": [
    "parseB [LBRA; LBRA; INT 3; RBRA; RBRA]"
   ]
  },
  {
   "cell_type": "markdown",
   "id": "dd28a5c4",
   "metadata": {},
   "source": [
    "This is easily extended to a full parser which also yields a parse tree: "
   ]
  },
  {
   "cell_type": "code",
   "execution_count": 7,
   "id": "21db7dad",
   "metadata": {},
   "outputs": [
    {
     "data": {
      "text/plain": [
       "type parsetree =\n",
       "    A1 of token\n",
       "  | A2 of parsetree\n",
       "  | B1 of token\n",
       "  | B2 of token * parsetree * token\n"
      ]
     },
     "execution_count": 7,
     "metadata": {},
     "output_type": "execute_result"
    },
    {
     "data": {
      "text/plain": [
       "val parseA : token list -> token list * parsetree = <fun>\n",
       "val parseB : token list -> token list * parsetree = <fun>\n"
      ]
     },
     "execution_count": 7,
     "metadata": {},
     "output_type": "execute_result"
    }
   ],
   "source": [
    "type parsetree = A1 of token | A2 of parsetree | B1 of token | B2 of token * parsetree * token \n",
    "\n",
    "let rec parseA (ts : token list) : token list * parsetree = \n",
    "    match ts with \n",
    "    | ID x :: ts' -> (ts', A1 (ID x))\n",
    "    | _ -> let (ts',ast) = parseB ts\n",
    "           in (ts', A2 ast)\n",
    "    \n",
    "and parseB (ts: token list) : token list * parsetree = \n",
    "    match ts with\n",
    "    | INT x :: ts' -> (ts', B1 (INT x))\n",
    "    | LBRA :: ts' -> (let (ts'', ast) = parseA ts'\n",
    "                       in (match ts'' with \n",
    "                           | RBRA :: ts''' -> (ts''', B2 (LBRA, ast, RBRA))\n",
    "                           | _ -> raise (SyntaxError \"Expected RPAREN.\")\n",
    "                           ))\n",
    "    | _ -> raise (SyntaxError \"Expected INT or LBRA\") "
   ]
  },
  {
   "cell_type": "code",
   "execution_count": 8,
   "id": "981834f9",
   "metadata": {},
   "outputs": [
    {
     "data": {
      "text/plain": [
       "- : token list * parsetree = ([], A2 (B2 (LBRA, A2 (B1 (INT 4)), RBRA)))\n"
      ]
     },
     "execution_count": 8,
     "metadata": {},
     "output_type": "execute_result"
    }
   ],
   "source": [
    "parseA [LBRA; INT 4; RBRA]"
   ]
  },
  {
   "cell_type": "code",
   "execution_count": 9,
   "id": "ba724835",
   "metadata": {},
   "outputs": [
    {
     "data": {
      "text/plain": [
       "- : token list * parsetree = ([LBRA; RBRA], A1 (ID \"x\"))\n"
      ]
     },
     "execution_count": 9,
     "metadata": {},
     "output_type": "execute_result"
    }
   ],
   "source": [
    "parseA [ID \"x\"; LBRA; RBRA]"
   ]
  },
  {
   "cell_type": "code",
   "execution_count": 10,
   "id": "9b26fd6d",
   "metadata": {},
   "outputs": [
    {
     "ename": "error",
     "evalue": "runtime_error",
     "output_type": "error",
     "traceback": [
      "\u001b[31mException: SyntaxError \"Expected INT or LBRA\".\nRaised at parseB in file \"[7]\", line 17, characters 11-53\nCalled from parseA in file \"[7]\", line 6, characters 27-36\nCalled from Stdlib__Fun.protect in file \"fun.ml\", line 33, characters 8-15\nRe-raised at Stdlib__Fun.protect in file \"fun.ml\", line 38, characters 6-52\nCalled from Topeval.load_lambda in file \"toplevel/byte/topeval.ml\", line 89, characters 4-150\n\u001b[0m"
     ]
    }
   ],
   "source": [
    "parseA [RBRA; INT 4]"
   ]
  },
  {
   "cell_type": "code",
   "execution_count": 11,
   "id": "28c57ec9",
   "metadata": {},
   "outputs": [
    {
     "ename": "error",
     "evalue": "runtime_error",
     "output_type": "error",
     "traceback": [
      "\u001b[31mException: SyntaxError \"Expected INT or LBRA\".\nRaised at parseB in file \"[7]\", line 17, characters 11-53\nCalled from Stdlib__Fun.protect in file \"fun.ml\", line 33, characters 8-15\nRe-raised at Stdlib__Fun.protect in file \"fun.ml\", line 38, characters 6-52\nCalled from Topeval.load_lambda in file \"toplevel/byte/topeval.ml\", line 89, characters 4-150\n\u001b[0m"
     ]
    }
   ],
   "source": [
    "parseB [ID \"x\"]"
   ]
  },
  {
   "cell_type": "code",
   "execution_count": 12,
   "id": "521ac421",
   "metadata": {},
   "outputs": [
    {
     "data": {
      "text/plain": [
       "- : token list * parsetree =\n",
       "([], B2 (LBRA, A2 (B2 (LBRA, A2 (B1 (INT 3)), RBRA)), RBRA))\n"
      ]
     },
     "execution_count": 12,
     "metadata": {},
     "output_type": "execute_result"
    }
   ],
   "source": [
    "parseB [LBRA; LBRA; INT 3; RBRA; RBRA]"
   ]
  },
  {
   "attachments": {},
   "cell_type": "markdown",
   "id": "96ba169f",
   "metadata": {},
   "source": [
    "## Example Recursive Descent Recognizer\n",
    "\n",
    "See the following concrete grammar for listing ints separated by a semicolon: \n",
    "\n",
    "```\n",
    "L := INT R\n",
    "R := ; L | ε\n",
    "```"
   ]
  },
  {
   "cell_type": "code",
   "execution_count": 13,
   "id": "dd230d30",
   "metadata": {},
   "outputs": [
    {
     "data": {
      "text/plain": [
       "type token = INT | SEMI | EOF\n"
      ]
     },
     "execution_count": 13,
     "metadata": {},
     "output_type": "execute_result"
    },
    {
     "data": {
      "text/plain": [
       "val parse_token : token -> token list -> token list = <fun>\n"
      ]
     },
     "execution_count": 13,
     "metadata": {},
     "output_type": "execute_result"
    },
    {
     "data": {
      "text/plain": [
       "val parseL : token list -> token list = <fun>\n",
       "val parseR : token list -> token list = <fun>\n"
      ]
     },
     "execution_count": 13,
     "metadata": {},
     "output_type": "execute_result"
    }
   ],
   "source": [
    "type token =  INT | SEMI | EOF\n",
    "\n",
    "let parse_token (x : token) (xs : token list) = match xs with \n",
    "| y :: ys -> if (x == y) then ys else raise (SyntaxError \"Token expected.\")\n",
    "| _ -> raise (SyntaxError \"Token expected.\") \n",
    "\n",
    "let rec parseL ts = parseR (parse_token INT ts)\n",
    "\n",
    "and parseR ts = match ts with \n",
    "                | SEMI :: ts' -> parseL ts'\n",
    "                | ts' -> ts'"
   ]
  },
  {
   "cell_type": "code",
   "execution_count": 14,
   "id": "a5cc39d2",
   "metadata": {},
   "outputs": [
    {
     "data": {
      "text/plain": [
       "- : token list = []\n"
      ]
     },
     "execution_count": 14,
     "metadata": {},
     "output_type": "execute_result"
    }
   ],
   "source": [
    "parseL [ INT; SEMI; INT]"
   ]
  },
  {
   "cell_type": "code",
   "execution_count": 15,
   "id": "27f0c7c4",
   "metadata": {},
   "outputs": [
    {
     "ename": "error",
     "evalue": "runtime_error",
     "output_type": "error",
     "traceback": [
      "\u001b[31mException: SyntaxError \"Token expected.\".\nRaised at parse_token in file \"[13]\", line 5, characters 7-44\nCalled from parseL in file \"[13]\", line 7, characters 27-47\nCalled from Stdlib__Fun.protect in file \"fun.ml\", line 33, characters 8-15\nRe-raised at Stdlib__Fun.protect in file \"fun.ml\", line 38, characters 6-52\nCalled from Topeval.load_lambda in file \"toplevel/byte/topeval.ml\", line 89, characters 4-150\n\u001b[0m"
     ]
    }
   ],
   "source": [
    "parseL [INT; SEMI]"
   ]
  },
  {
   "cell_type": "markdown",
   "id": "6388d0a2",
   "metadata": {},
   "source": [
    "## Example Left Recursion \n",
    "\n",
    "See the following left-recursive grammar for non-empty lists: \n",
    "\n",
    "```\n",
    "L ::= [int C]\n",
    "C ::=  C ; int  | ε\n",
    "```\n",
    "\n",
    "We can define a recursive-descent parser..."
   ]
  },
  {
   "cell_type": "code",
   "execution_count": 16,
   "id": "67dd5aef",
   "metadata": {},
   "outputs": [
    {
     "data": {
      "text/plain": [
       "type token = LBRA | RBRA | INT | SEMI | EOF\n"
      ]
     },
     "execution_count": 16,
     "metadata": {},
     "output_type": "execute_result"
    },
    {
     "data": {
      "text/plain": [
       "val parse_token : token -> token list -> token list = <fun>\n"
      ]
     },
     "execution_count": 16,
     "metadata": {},
     "output_type": "execute_result"
    },
    {
     "data": {
      "text/plain": [
       "val parseL : token list -> token list = <fun>\n",
       "val parseC : token list -> token list = <fun>\n"
      ]
     },
     "execution_count": 16,
     "metadata": {},
     "output_type": "execute_result"
    }
   ],
   "source": [
    "type token = LBRA | RBRA | INT | SEMI | EOF\n",
    "\n",
    "let parse_token (x : token) (xs : token list) = match xs with \n",
    "| y :: ys -> if (x == y) then ys else raise (SyntaxError \"Token expected.\")\n",
    "| _ -> raise (SyntaxError \"Token expected.\") \n",
    "\n",
    "let rec parseL ts = parse_token RBRA (parseC (parse_token LBRA ts))\n",
    "\n",
    "and parseC ts = match ts with \n",
    "    | SEMI :: ts' -> parse_token INT (parse_token SEMI (parseC ts)) \n",
    "    | _ -> ts  "
   ]
  },
  {
   "cell_type": "markdown",
   "id": "2e17afff",
   "metadata": {},
   "source": [
    "... but running it leads to divergence: "
   ]
  },
  {
   "cell_type": "code",
   "execution_count": 17,
   "id": "366e3855",
   "metadata": {},
   "outputs": [
    {
     "ename": "error",
     "evalue": "runtime_error",
     "output_type": "error",
     "traceback": [
      "\u001b[31mStack overflow during evaluation (looping recursion?).\nRaised by primitive operation at parseC in file \"[16]\", line 10, characters 55-66\nCalled from parseC in file \"[16]\", line 10, characters 55-66\nCalled from parseC in file \"[16]\", line 10, characters 55-66\nCalled from parseC in file \"[16]\", line 10, characters 55-66\nCalled from parseC in file \"[16]\", line 10, characters 55-66\nCalled from parseC in file \"[16]\", line 10, characters 55-66\nCalled from parseC in file \"[16]\", line 10, characters 55-66\nCalled from parseC in file \"[16]\", line 10, characters 55-66\nCalled from parseC in file \"[16]\", line 10, characters 55-66\nCalled from parseC in file \"[16]\", line 10, characters 55-66\nCalled from parseC in file \"[16]\", line 10, characters 55-66\nCalled from parseC in file \"[16]\", line 10, characters 55-66\nCalled from parseC in file \"[16]\", line 10, characters 55-66\nCalled from parseC in file \"[16]\", line 10, characters 55-66\nCalled from parseC in file \"[16]\", line 10, characters 55-66\nCalled from parseC in file \"[16]\", line 10, characters 55-66\nCalled from parseC in file \"[16]\", line 10, characters 55-66\nCalled from parseC in file \"[16]\", line 10, characters 55-66\nCalled from parseC in file \"[16]\", line 10, characters 55-66\nCalled from parseC in file \"[16]\", line 10, characters 55-66\nCalled from parseC in file \"[16]\", line 10, characters 55-66\nCalled from parseC in file \"[16]\", line 10, characters 55-66\nCalled from parseC in file \"[16]\", line 10, characters 55-66\nCalled from parseC in file \"[16]\", line 10, characters 55-66\nCalled from parseC in file \"[16]\", line 10, characters 55-66\nCalled from parseC in file \"[16]\", line 10, characters 55-66\nCalled from parseC in file \"[16]\", line 10, characters 55-66\nCalled from parseC in file \"[16]\", line 10, characters 55-66\nCalled from parseC in file \"[16]\", line 10, characters 55-66\nCalled from parseC in file \"[16]\", line 10, characters 55-66\nCalled from parseC in file \"[16]\", line 10, characters 55-66\nCalled from parseC in file \"[16]\", line 10, characters 55-66\nCalled from parseC in file \"[16]\", line 10, characters 55-66\nCalled from parseC in file \"[16]\", line 10, characters 55-66\nCalled from parseC in file \"[16]\", line 10, characters 55-66\nCalled from parseC in file \"[16]\", line 10, characters 55-66\nCalled from parseC in file \"[16]\", line 10, characters 55-66\nCalled from parseC in file \"[16]\", line 10, characters 55-66\nCalled from parseC in file \"[16]\", line 10, characters 55-66\nCalled from parseC in file \"[16]\", line 10, characters 55-66\nCalled from parseC in file \"[16]\", line 10, characters 55-66\nCalled from parseC in file \"[16]\", line 10, characters 55-66\nCalled from parseC in file \"[16]\", line 10, characters 55-66\nCalled from parseC in file \"[16]\", line 10, characters 55-66\nCalled from parseC in file \"[16]\", line 10, characters 55-66\nCalled from parseC in file \"[16]\", line 10, characters 55-66\nCalled from parseC in file \"[16]\", line 10, characters 55-66\nCalled from parseC in file \"[16]\", line 10, characters 55-66\nCalled from parseC in file \"[16]\", line 10, characters 55-66\nCalled from parseC in file \"[16]\", line 10, characters 55-66\nCalled from parseC in file \"[16]\", line 10, characters 55-66\nCalled from parseC in file \"[16]\", line 10, characters 55-66\nCalled from parseC in file \"[16]\", line 10, characters 55-66\nCalled from parseC in file \"[16]\", line 10, characters 55-66\nCalled from parseC in file \"[16]\", line 10, characters 55-66\nCalled from parseC in file \"[16]\", line 10, characters 55-66\nCalled from parseC in file \"[16]\", line 10, characters 55-66\nCalled from parseC in file \"[16]\", line 10, characters 55-66\nCalled from parseC in file \"[16]\", line 10, characters 55-66\nCalled from parseC in file \"[16]\", line 10, characters 55-66\nCalled from parseC in file \"[16]\", line 10, characters 55-66\nCalled from parseC in file \"[16]\", line 10, characters 55-66\nCalled from parseC in file \"[16]\", line 10, characters 55-66\nCalled from parseC in file \"[16]\", line 10, characters 55-66\nCalled from parseC in file \"[16]\", line 10, characters 55-66\nCalled from parseC in file \"[16]\", line 10, characters 55-66\nCalled from parseC in file \"[16]\", line 10, characters 55-66\nCalled from parseC in file \"[16]\", line 10, characters 55-66\nCalled from parseC in file \"[16]\", line 10, characters 55-66\nCalled from parseC in file \"[16]\", line 10, characters 55-66\nCalled from parseC in file \"[16]\", line 10, characters 55-66\nCalled from parseC in file \"[16]\", line 10, characters 55-66\nCalled from parseC in file \"[16]\", line 10, characters 55-66\nCalled from parseC in file \"[16]\", line 10, characters 55-66\nCalled from parseC in file \"[16]\", line 10, characters 55-66\nCalled from parseC in file \"[16]\", line 10, characters 55-66\nCalled from parseC in file \"[16]\", line 10, characters 55-66\nCalled from parseC in file \"[16]\", line 10, characters 55-66\nCalled from parseC in file \"[16]\", line 10, characters 55-66\nCalled from parseC in file \"[16]\", line 10, characters 55-66\nCalled from parseC in file \"[16]\", line 10, characters 55-66\nCalled from parseC in file \"[16]\", line 10, characters 55-66\nCalled from parseC in file \"[16]\", line 10, characters 55-66\nCalled from parseC in file \"[16]\", line 10, characters 55-66\nCalled from parseC in file \"[16]\", line 10, characters 55-66\nCalled from parseC in file \"[16]\", line 10, characters 55-66\nCalled from parseC in file \"[16]\", line 10, characters 55-66\nCalled from parseC in file \"[16]\", line 10, characters 55-66\nCalled from parseC in file \"[16]\", line 10, characters 55-66\nCalled from parseC in file \"[16]\", line 10, characters 55-66\nCalled from parseC in file \"[16]\", line 10, characters 55-66\nCalled from parseC in file \"[16]\", line 10, characters 55-66\nCalled from parseC in file \"[16]\", line 10, characters 55-66\nCalled from parseC in file \"[16]\", line 10, characters 55-66\nCalled from parseC in file \"[16]\", line 10, characters 55-66\nCalled from parseC in file \"[16]\", line 10, characters 55-66\nCalled from parseC in file \"[16]\", line 10, characters 55-66\nCalled from parseC in file \"[16]\", line 10, characters 55-66\nCalled from parseC in file \"[16]\", line 10, characters 55-66\nCalled from parseC in file \"[16]\", line 10, characters 55-66\nCalled from parseC in file \"[16]\", line 10, characters 55-66\nCalled from parseC in file \"[16]\", line 10, characters 55-66\nCalled from parseC in file \"[16]\", line 10, characters 55-66\nCalled from parseC in file \"[16]\", line 10, characters 55-66\nCalled from parseC in file \"[16]\", line 10, characters 55-66\nCalled from parseC in file \"[16]\", line 10, characters 55-66\nCalled from parseC in file \"[16]\", line 10, characters 55-66\nCalled from parseC in file \"[16]\", line 10, characters 55-66\nCalled from parseC in file \"[16]\", line 10, characters 55-66\nCalled from parseC in file \"[16]\", line 10, characters 55-66\nCalled from parseC in file \"[16]\", line 10, characters 55-66\nCalled from parseC in file \"[16]\", line 10, characters 55-66\nCalled from parseC in file \"[16]\", line 10, characters 55-66\nCalled from parseC in file \"[16]\", line 10, characters 55-66\nCalled from parseC in file \"[16]\", line 10, characters 55-66\nCalled from parseC in file \"[16]\", line 10, characters 55-66\nCalled from parseC in file \"[16]\", line 10, characters 55-66\nCalled from parseC in file \"[16]\", line 10, characters 55-66\nCalled from parseC in file \"[16]\", line 10, characters 55-66\nCalled from parseC in file \"[16]\", line 10, characters 55-66\nCalled from parseC in file \"[16]\", line 10, characters 55-66\nCalled from parseC in file \"[16]\", line 10, characters 55-66\nCalled from parseC in file \"[16]\", line 10, characters 55-66\nCalled from parseC in file \"[16]\", line 10, characters 55-66\nCalled from parseC in file \"[16]\", line 10, characters 55-66\nCalled from parseC in file \"[16]\", line 10, characters 55-66\nCalled from parseC in file \"[16]\", line 10, characters 55-66\nCalled from parseC in file \"[16]\", line 10, characters 55-66\nCalled from parseC in file \"[16]\", line 10, characters 55-66\nCalled from parseC in file \"[16]\", line 10, characters 55-66\nCalled from parseC in file \"[16]\", line 10, characters 55-66\nCalled from parseC in file \"[16]\", line 10, characters 55-66\nCalled from parseC in file \"[16]\", line 10, characters 55-66\nCalled from parseC in file \"[16]\", line 10, characters 55-66\nCalled from parseC in file \"[16]\", line 10, characters 55-66\nCalled from parseC in file \"[16]\", line 10, characters 55-66\nCalled from parseC in file \"[16]\", line 10, characters 55-66\nCalled from parseC in file \"[16]\", line 10, characters 55-66\nCalled from parseC in file \"[16]\", line 10, characters 55-66\nCalled from parseC in file \"[16]\", line 10, characters 55-66\nCalled from parseC in file \"[16]\", line 10, characters 55-66\nCalled from parseC in file \"[16]\", line 10, characters 55-66\nCalled from parseC in file \"[16]\", line 10, characters 55-66\nCalled from parseC in file \"[16]\", line 10, characters 55-66\nCalled from parseC in file \"[16]\", line 10, characters 55-66\nCalled from parseC in file \"[16]\", line 10, characters 55-66\nCalled from parseC in file \"[16]\", line 10, characters 55-66\nCalled from parseC in file \"[16]\", line 10, characters 55-66\nCalled from parseC in file \"[16]\", line 10, characters 55-66\nCalled from parseC in file \"[16]\", line 10, characters 55-66\nCalled from parseC in file \"[16]\", line 10, characters 55-66\nCalled from parseC in file \"[16]\", line 10, characters 55-66\nCalled from parseC in file \"[16]\", line 10, characters 55-66\nCalled from parseC in file \"[16]\", line 10, characters 55-66\nCalled from parseC in file \"[16]\", line 10, characters 55-66\nCalled from parseC in file \"[16]\", line 10, characters 55-66\nCalled from parseC in file \"[16]\", line 10, characters 55-66\nCalled from parseC in file \"[16]\", line 10, characters 55-66\nCalled from parseC in file \"[16]\", line 10, characters 55-66\nCalled from parseC in file \"[16]\", line 10, characters 55-66\nCalled from parseC in file \"[16]\", line 10, characters 55-66\nCalled from parseC in file \"[16]\", line 10, characters 55-66\nCalled from parseC in file \"[16]\", line 10, characters 55-66\nCalled from parseC in file \"[16]\", line 10, characters 55-66\nCalled from parseC in file \"[16]\", line 10, characters 55-66\nCalled from parseC in file \"[16]\", line 10, characters 55-66\nCalled from parseC in file \"[16]\", line 10, characters 55-66\nCalled from parseC in file \"[16]\", line 10, characters 55-66\nCalled from parseC in file \"[16]\", line 10, characters 55-66\nCalled from parseC in file \"[16]\", line 10, characters 55-66\nCalled from parseC in file \"[16]\", line 10, characters 55-66\nCalled from parseC in file \"[16]\", line 10, characters 55-66\nCalled from parseC in file \"[16]\", line 10, characters 55-66\nCalled from parseC in file \"[16]\", line 10, characters 55-66\nCalled from parseC in file \"[16]\", line 10, characters 55-66\nCalled from parseC in file \"[16]\", line 10, characters 55-66\nCalled from parseC in file \"[16]\", line 10, characters 55-66\nCalled from parseC in file \"[16]\", line 10, characters 55-66\nCalled from parseC in file \"[16]\", line 10, characters 55-66\nCalled from parseC in file \"[16]\", line 10, characters 55-66\nCalled from parseC in file \"[16]\", line 10, characters 55-66\nCalled from parseC in file \"[16]\", line 10, characters 55-66\nCalled from parseC in file \"[16]\", line 10, characters 55-66\nCalled from parseC in file \"[16]\", line 10, characters 55-66\nCalled from parseC in file \"[16]\", line 10, characters 55-66\nCalled from parseC in file \"[16]\", line 10, characters 55-66\nCalled from parseC in file \"[16]\", line 10, characters 55-66\nCalled from parseC in file \"[16]\", line 10, characters 55-66\nCalled from parseC in file \"[16]\", line 10, characters 55-66\nCalled from parseC in file \"[16]\", line 10, characters 55-66\nCalled from parseC in file \"[16]\", line 10, characters 55-66\nCalled from parseC in file \"[16]\", line 10, characters 55-66\nCalled from parseC in file \"[16]\", line 10, characters 55-66\nCalled from parseC in file \"[16]\", line 10, characters 55-66\nCalled from parseC in file \"[16]\", line 10, characters 55-66\nCalled from parseC in file \"[16]\", line 10, characters 55-66\nCalled from parseC in file \"[16]\", line 10, characters 55-66\nCalled from parseC in file \"[16]\", line 10, characters 55-66\nCalled from parseC in file \"[16]\", line 10, characters 55-66\nCalled from parseC in file \"[16]\", line 10, characters 55-66\nCalled from parseC in file \"[16]\", line 10, characters 55-66\nCalled from parseC in file \"[16]\", line 10, characters 55-66\nCalled from parseC in file \"[16]\", line 10, characters 55-66\nCalled from parseC in file \"[16]\", line 10, characters 55-66\nCalled from parseC in file \"[16]\", line 10, characters 55-66\nCalled from parseC in file \"[16]\", line 10, characters 55-66\nCalled from parseC in file \"[16]\", line 10, characters 55-66\nCalled from parseC in file \"[16]\", line 10, characters 55-66\nCalled from parseC in file \"[16]\", line 10, characters 55-66\nCalled from parseC in file \"[16]\", line 10, characters 55-66\nCalled from parseC in file \"[16]\", line 10, characters 55-66\nCalled from parseC in file \"[16]\", line 10, characters 55-66\nCalled from parseC in file \"[16]\", line 10, characters 55-66\nCalled from parseC in file \"[16]\", line 10, characters 55-66\nCalled from parseC in file \"[16]\", line 10, characters 55-66\nCalled from parseC in file \"[16]\", line 10, characters 55-66\nCalled from parseC in file \"[16]\", line 10, characters 55-66\nCalled from parseC in file \"[16]\", line 10, characters 55-66\nCalled from parseC in file \"[16]\", line 10, characters 55-66\nCalled from parseC in file \"[16]\", line 10, characters 55-66\nCalled from parseC in file \"[16]\", line 10, characters 55-66\nCalled from parseC in file \"[16]\", line 10, characters 55-66\nCalled from parseC in file \"[16]\", line 10, characters 55-66\nCalled from parseC in file \"[16]\", line 10, characters 55-66\nCalled from parseC in file \"[16]\", line 10, characters 55-66\nCalled from parseC in file \"[16]\", line 10, characters 55-66\nCalled from parseC in file \"[16]\", line 10, characters 55-66\nCalled from parseC in file \"[16]\", line 10, characters 55-66\nCalled from parseC in file \"[16]\", line 10, characters 55-66\nCalled from parseC in file \"[16]\", line 10, characters 55-66\nCalled from parseC in file \"[16]\", line 10, characters 55-66\nCalled from parseC in file \"[16]\", line 10, characters 55-66\nCalled from parseC in file \"[16]\", line 10, characters 55-66\nCalled from parseC in file \"[16]\", line 10, characters 55-66\nCalled from parseC in file \"[16]\", line 10, characters 55-66\nCalled from parseC in file \"[16]\", line 10, characters 55-66\nCalled from parseC in file \"[16]\", line 10, characters 55-66\nCalled from parseC in file \"[16]\", line 10, characters 55-66\nCalled from parseC in file \"[16]\", line 10, characters 55-66\nCalled from parseC in file \"[16]\", line 10, characters 55-66\nCalled from parseC in file \"[16]\", line 10, characters 55-66\nCalled from parseC in file \"[16]\", line 10, characters 55-66\nCalled from parseC in file \"[16]\", line 10, characters 55-66\nCalled from parseC in file \"[16]\", line 10, characters 55-66\nCalled from parseC in file \"[16]\", line 10, characters 55-66\nCalled from parseC in file \"[16]\", line 10, characters 55-66\nCalled from parseC in file \"[16]\", line 10, characters 55-66\nCalled from parseC in file \"[16]\", line 10, characters 55-66\nCalled from parseC in file \"[16]\", line 10, characters 55-66\nCalled from parseC in file \"[16]\", line 10, characters 55-66\nCalled from parseC in file \"[16]\", line 10, characters 55-66\nCalled from parseC in file \"[16]\", line 10, characters 55-66\nCalled from parseC in file \"[16]\", line 10, characters 55-66\nCalled from parseC in file \"[16]\", line 10, characters 55-66\nCalled from parseC in file \"[16]\", line 10, characters 55-66\nCalled from parseC in file \"[16]\", line 10, characters 55-66\nCalled from parseC in file \"[16]\", line 10, characters 55-66\nCalled from parseC in file \"[16]\", line 10, characters 55-66\nCalled from parseC in file \"[16]\", line 10, characters 55-66\nCalled from parseC in file \"[16]\", line 10, characters 55-66\nCalled from parseC in file \"[16]\", line 10, characters 55-66\nCalled from parseC in file \"[16]\", line 10, characters 55-66\nCalled from parseC in file \"[16]\", line 10, characters 55-66\nCalled from parseC in file \"[16]\", line 10, characters 55-66\nCalled from parseC in file \"[16]\", line 10, characters 55-66\nCalled from parseC in file \"[16]\", line 10, characters 55-66\nCalled from parseC in file \"[16]\", line 10, characters 55-66\nCalled from parseC in file \"[16]\", line 10, characters 55-66\nCalled from parseC in file \"[16]\", line 10, characters 55-66\nCalled from parseC in file \"[16]\", line 10, characters 55-66\nCalled from parseC in file \"[16]\", line 10, characters 55-66\nCalled from parseC in file \"[16]\", line 10, characters 55-66\nCalled from parseC in file \"[16]\", line 10, characters 55-66\nCalled from parseC in file \"[16]\", line 10, characters 55-66\nCalled from parseC in file \"[16]\", line 10, characters 55-66\nCalled from parseC in file \"[16]\", line 10, characters 55-66\nCalled from parseC in file \"[16]\", line 10, characters 55-66\nCalled from parseC in file \"[16]\", line 10, characters 55-66\nCalled from parseC in file \"[16]\", line 10, characters 55-66\nCalled from parseC in file \"[16]\", line 10, characters 55-66\nCalled from parseC in file \"[16]\", line 10, characters 55-66\nCalled from parseC in file \"[16]\", line 10, characters 55-66\nCalled from parseC in file \"[16]\", line 10, characters 55-66\nCalled from parseC in file \"[16]\", line 10, characters 55-66\nCalled from parseC in file \"[16]\", line 10, characters 55-66\nCalled from parseC in file \"[16]\", line 10, characters 55-66\nCalled from parseC in file \"[16]\", line 10, characters 55-66\nCalled from parseC in file \"[16]\", line 10, characters 55-66\nCalled from parseC in file \"[16]\", line 10, characters 55-66\nCalled from parseC in file \"[16]\", line 10, characters 55-66\nCalled from parseC in file \"[16]\", line 10, characters 55-66\nCalled from parseC in file \"[16]\", line 10, characters 55-66\nCalled from parseC in file \"[16]\", line 10, characters 55-66\nCalled from parseC in file \"[16]\", line 10, characters 55-66\nCalled from parseC in file \"[16]\", line 10, characters 55-66\nCalled from parseC in file \"[16]\", line 10, characters 55-66\nCalled from parseC in file \"[16]\", line 10, characters 55-66\nCalled from parseC in file \"[16]\", line 10, characters 55-66\nCalled from parseC in file \"[16]\", line 10, characters 55-66\nCalled from parseC in file \"[16]\", line 10, characters 55-66\nCalled from parseC in file \"[16]\", line 10, characters 55-66\nCalled from parseC in file \"[16]\", line 10, characters 55-66\nCalled from parseC in file \"[16]\", line 10, characters 55-66\nCalled from parseC in file \"[16]\", line 10, characters 55-66\nCalled from parseC in file \"[16]\", line 10, characters 55-66\nCalled from parseC in file \"[16]\", line 10, characters 55-66\nCalled from parseC in file \"[16]\", line 10, characters 55-66\nCalled from parseC in file \"[16]\", line 10, characters 55-66\nCalled from parseC in file \"[16]\", line 10, characters 55-66\nCalled from parseC in file \"[16]\", line 10, characters 55-66\nCalled from parseC in file \"[16]\", line 10, characters 55-66\nCalled from parseC in file \"[16]\", line 10, characters 55-66\nCalled from parseC in file \"[16]\", line 10, characters 55-66\nCalled from parseC in file \"[16]\", line 10, characters 55-66\nCalled from parseC in file \"[16]\", line 10, characters 55-66\nCalled from parseC in file \"[16]\", line 10, characters 55-66\nCalled from parseC in file \"[16]\", line 10, characters 55-66\nCalled from parseC in file \"[16]\", line 10, characters 55-66\nCalled from parseC in file \"[16]\", line 10, characters 55-66\nCalled from parseC in file \"[16]\", line 10, characters 55-66\nCalled from parseC in file \"[16]\", line 10, characters 55-66\nCalled from parseC in file \"[16]\", line 10, characters 55-66\nCalled from parseC in file \"[16]\", line 10, characters 55-66\nCalled from parseC in file \"[16]\", line 10, characters 55-66\nCalled from parseC in file \"[16]\", line 10, characters 55-66\nCalled from parseC in file \"[16]\", line 10, characters 55-66\nCalled from parseC in file \"[16]\", line 10, characters 55-66\nCalled from parseC in file \"[16]\", line 10, characters 55-66\nCalled from parseC in file \"[16]\", line 10, characters 55-66\nCalled from parseC in file \"[16]\", line 10, characters 55-66\nCalled from parseC in file \"[16]\", line 10, characters 55-66\nCalled from parseC in file \"[16]\", line 10, characters 55-66\nCalled from parseC in file \"[16]\", line 10, characters 55-66\nCalled from parseC in file \"[16]\", line 10, characters 55-66\nCalled from parseC in file \"[16]\", line 10, characters 55-66\nCalled from parseC in file \"[16]\", line 10, characters 55-66\nCalled from parseC in file \"[16]\", line 10, characters 55-66\nCalled from parseC in file \"[16]\", line 10, characters 55-66\nCalled from parseC in file \"[16]\", line 10, characters 55-66\nCalled from parseC in file \"[16]\", line 10, characters 55-66\nCalled from parseC in file \"[16]\", line 10, characters 55-66\nCalled from parseC in file \"[16]\", line 10, characters 55-66\nCalled from parseC in file \"[16]\", line 10, characters 55-66\nCalled from parseC in file \"[16]\", line 10, characters 55-66\nCalled from parseC in file \"[16]\", line 10, characters 55-66\nCalled from parseC in file \"[16]\", line 10, characters 55-66\nCalled from parseC in file \"[16]\", line 10, characters 55-66\nCalled from parseC in file \"[16]\", line 10, characters 55-66\nCalled from parseC in file \"[16]\", line 10, characters 55-66\nCalled from parseC in file \"[16]\", line 10, characters 55-66\nCalled from parseC in file \"[16]\", line 10, characters 55-66\nCalled from parseC in file \"[16]\", line 10, characters 55-66\nCalled from parseC in file \"[16]\", line 10, characters 55-66\nCalled from parseC in file \"[16]\", line 10, characters 55-66\nCalled from parseC in file \"[16]\", line 10, characters 55-66\nCalled from parseC in file \"[16]\", line 10, characters 55-66\nCalled from parseC in file \"[16]\", line 10, characters 55-66\nCalled from parseC in file \"[16]\", line 10, characters 55-66\nCalled from parseC in file \"[16]\", line 10, characters 55-66\nCalled from parseC in file \"[16]\", line 10, characters 55-66\nCalled from parseC in file \"[16]\", line 10, characters 55-66\nCalled from parseC in file \"[16]\", line 10, characters 55-66\nCalled from parseC in file \"[16]\", line 10, characters 55-66\nCalled from parseC in file \"[16]\", line 10, characters 55-66\nCalled from parseC in file \"[16]\", line 10, characters 55-66\nCalled from parseC in file \"[16]\", line 10, characters 55-66\nCalled from parseC in file \"[16]\", line 10, characters 55-66\nCalled from parseC in file \"[16]\", line 10, characters 55-66\nCalled from parseC in file \"[16]\", line 10, characters 55-66\nCalled from parseC in file \"[16]\", line 10, characters 55-66\nCalled from parseC in file \"[16]\", line 10, characters 55-66\nCalled from parseC in file \"[16]\", line 10, characters 55-66\nCalled from parseC in file \"[16]\", line 10, characters 55-66\nCalled from parseC in file \"[16]\", line 10, characters 55-66\nCalled from parseC in file \"[16]\", line 10, characters 55-66\nCalled from parseC in file \"[16]\", line 10, characters 55-66\nCalled from parseC in file \"[16]\", line 10, characters 55-66\nCalled from parseC in file \"[16]\", line 10, characters 55-66\nCalled from parseC in file \"[16]\", line 10, characters 55-66\nCalled from parseC in file \"[16]\", line 10, characters 55-66\nCalled from parseC in file \"[16]\", line 10, characters 55-66\nCalled from parseC in file \"[16]\", line 10, characters 55-66\nCalled from parseC in file \"[16]\", line 10, characters 55-66\nCalled from parseC in file \"[16]\", line 10, characters 55-66\nCalled from parseC in file \"[16]\", line 10, characters 55-66\nCalled from parseC in file \"[16]\", line 10, characters 55-66\nCalled from parseC in file \"[16]\", line 10, characters 55-66\nCalled from parseC in file \"[16]\", line 10, characters 55-66\nCalled from parseC in file \"[16]\", line 10, characters 55-66\nCalled from parseC in file \"[16]\", line 10, characters 55-66\nCalled from parseC in file \"[16]\", line 10, characters 55-66\nCalled from parseC in file \"[16]\", line 10, characters 55-66\nCalled from parseC in file \"[16]\", line 10, characters 55-66\nCalled from parseC in file \"[16]\", line 10, characters 55-66\nCalled from parseC in file \"[16]\", line 10, characters 55-66\nCalled from parseC in file \"[16]\", line 10, characters 55-66\nCalled from parseC in file \"[16]\", line 10, characters 55-66\nCalled from parseC in file \"[16]\", line 10, characters 55-66\nCalled from parseC in file \"[16]\", line 10, characters 55-66\nCalled from parseC in file \"[16]\", line 10, characters 55-66\nCalled from parseC in file \"[16]\", line 10, characters 55-66\nCalled from parseC in file \"[16]\", line 10, characters 55-66\nCalled from parseC in file \"[16]\", line 10, characters 55-66\nCalled from parseC in file \"[16]\", line 10, characters 55-66\nCalled from parseC in file \"[16]\", line 10, characters 55-66\nCalled from parseC in file \"[16]\", line 10, characters 55-66\nCalled from parseC in file \"[16]\", line 10, characters 55-66\nCalled from parseC in file \"[16]\", line 10, characters 55-66\nCalled from parseC in file \"[16]\", line 10, characters 55-66\nCalled from parseC in file \"[16]\", line 10, characters 55-66\nCalled from parseC in file \"[16]\", line 10, characters 55-66\nCalled from parseC in file \"[16]\", line 10, characters 55-66\nCalled from parseC in file \"[16]\", line 10, characters 55-66\nCalled from parseC in file \"[16]\", line 10, characters 55-66\nCalled from parseC in file \"[16]\", line 10, characters 55-66\nCalled from parseC in file \"[16]\", line 10, characters 55-66\nCalled from parseC in file \"[16]\", line 10, characters 55-66\nCalled from parseC in file \"[16]\", line 10, characters 55-66\nCalled from parseC in file \"[16]\", line 10, characters 55-66\nCalled from parseC in file \"[16]\", line 10, characters 55-66\nCalled from parseC in file \"[16]\", line 10, characters 55-66\nCalled from parseC in file \"[16]\", line 10, characters 55-66\nCalled from parseC in file \"[16]\", line 10, characters 55-66\nCalled from parseC in file \"[16]\", line 10, characters 55-66\nCalled from parseC in file \"[16]\", line 10, characters 55-66\nCalled from parseC in file \"[16]\", line 10, characters 55-66\nCalled from parseC in file \"[16]\", line 10, characters 55-66\nCalled from parseC in file \"[16]\", line 10, characters 55-66\nCalled from parseC in file \"[16]\", line 10, characters 55-66\nCalled from parseC in file \"[16]\", line 10, characters 55-66\nCalled from parseC in file \"[16]\", line 10, characters 55-66\nCalled from parseC in file \"[16]\", line 10, characters 55-66\nCalled from parseC in file \"[16]\", line 10, characters 55-66\nCalled from parseC in file \"[16]\", line 10, characters 55-66\nCalled from parseC in file \"[16]\", line 10, characters 55-66\nCalled from parseC in file \"[16]\", line 10, characters 55-66\nCalled from parseC in file \"[16]\", line 10, characters 55-66\nCalled from parseC in file \"[16]\", line 10, characters 55-66\nCalled from parseC in file \"[16]\", line 10, characters 55-66\nCalled from parseC in file \"[16]\", line 10, characters 55-66\nCalled from parseC in file \"[16]\", line 10, characters 55-66\nCalled from parseC in file \"[16]\", line 10, characters 55-66\nCalled from parseC in file \"[16]\", line 10, characters 55-66\nCalled from parseC in file \"[16]\", line 10, characters 55-66\nCalled from parseC in file \"[16]\", line 10, characters 55-66\nCalled from parseC in file \"[16]\", line 10, characters 55-66\nCalled from parseC in file \"[16]\", line 10, characters 55-66\nCalled from parseC in file \"[16]\", line 10, characters 55-66\nCalled from parseC in file \"[16]\", line 10, characters 55-66\nCalled from parseC in file \"[16]\", line 10, characters 55-66\nCalled from parseC in file \"[16]\", line 10, characters 55-66\nCalled from parseC in file \"[16]\", line 10, characters 55-66\nCalled from parseC in file \"[16]\", line 10, characters 55-66\nCalled from parseC in file \"[16]\", line 10, characters 55-66\nCalled from parseC in file \"[16]\", line 10, characters 55-66\nCalled from parseC in file \"[16]\", line 10, characters 55-66\nCalled from parseC in file \"[16]\", line 10, characters 55-66\nCalled from parseC in file \"[16]\", line 10, characters 55-66\nCalled from parseC in file \"[16]\", line 10, characters 55-66\nCalled from parseC in file \"[16]\", line 10, characters 55-66\nCalled from parseC in file \"[16]\", line 10, characters 55-66\nCalled from parseC in file \"[16]\", line 10, characters 55-66\nCalled from parseC in file \"[16]\", line 10, characters 55-66\nCalled from parseC in file \"[16]\", line 10, characters 55-66\nCalled from parseC in file \"[16]\", line 10, characters 55-66\nCalled from parseC in file \"[16]\", line 10, characters 55-66\nCalled from parseC in file \"[16]\", line 10, characters 55-66\nCalled from parseC in file \"[16]\", line 10, characters 55-66\nCalled from parseC in file \"[16]\", line 10, characters 55-66\nCalled from parseC in file \"[16]\", line 10, characters 55-66\nCalled from parseC in file \"[16]\", line 10, characters 55-66\nCalled from parseC in file \"[16]\", line 10, characters 55-66\nCalled from parseC in file \"[16]\", line 10, characters 55-66\nCalled from parseC in file \"[16]\", line 10, characters 55-66\nCalled from parseC in file \"[16]\", line 10, characters 55-66\nCalled from parseC in file \"[16]\", line 10, characters 55-66\nCalled from parseC in file \"[16]\", line 10, characters 55-66\nCalled from parseC in file \"[16]\", line 10, characters 55-66\nCalled from parseC in file \"[16]\", line 10, characters 55-66\nCalled from parseC in file \"[16]\", line 10, characters 55-66\nCalled from parseC in file \"[16]\", line 10, characters 55-66\nCalled from parseC in file \"[16]\", line 10, characters 55-66\nCalled from parseC in file \"[16]\", line 10, characters 55-66\nCalled from parseC in file \"[16]\", line 10, characters 55-66\nCalled from parseC in file \"[16]\", line 10, characters 55-66\nCalled from parseC in file \"[16]\", line 10, characters 55-66\nCalled from parseC in file \"[16]\", line 10, characters 55-66\nCalled from parseC in file \"[16]\", line 10, characters 55-66\nCalled from parseC in file \"[16]\", line 10, characters 55-66\nCalled from parseC in file \"[16]\", line 10, characters 55-66\nCalled from parseC in file \"[16]\", line 10, characters 55-66\nCalled from parseC in file \"[16]\", line 10, characters 55-66\nCalled from parseC in file \"[16]\", line 10, characters 55-66\nCalled from parseC in file \"[16]\", line 10, characters 55-66\nCalled from parseC in file \"[16]\", line 10, characters 55-66\nCalled from parseC in file \"[16]\", line 10, characters 55-66\nCalled from parseC in file \"[16]\", line 10, characters 55-66\nCalled from parseC in file \"[16]\", line 10, characters 55-66\nCalled from parseC in file \"[16]\", line 10, characters 55-66\nCalled from parseC in file \"[16]\", line 10, characters 55-66\nCalled from parseC in file \"[16]\", line 10, characters 55-66\nCalled from parseC in file \"[16]\", line 10, characters 55-66\nCalled from parseC in file \"[16]\", line 10, characters 55-66\nCalled from parseC in file \"[16]\", line 10, characters 55-66\nCalled from parseC in file \"[16]\", line 10, characters 55-66\nCalled from parseC in file \"[16]\", line 10, characters 55-66\nCalled from parseC in file \"[16]\", line 10, characters 55-66\nCalled from parseC in file \"[16]\", line 10, characters 55-66\nCalled from parseC in file \"[16]\", line 10, characters 55-66\nCalled from parseC in file \"[16]\", line 10, characters 55-66\nCalled from parseC in file \"[16]\", line 10, characters 55-66\nCalled from parseC in file \"[16]\", line 10, characters 55-66\nCalled from parseC in file \"[16]\", line 10, characters 55-66\nCalled from parseC in file \"[16]\", line 10, characters 55-66\nCalled from parseC in file \"[16]\", line 10, characters 55-66\nCalled from parseC in file \"[16]\", line 10, characters 55-66\nCalled from parseC in file \"[16]\", line 10, characters 55-66\nCalled from parseC in file \"[16]\", line 10, characters 55-66\nCalled from parseC in file \"[16]\", line 10, characters 55-66\nCalled from parseC in file \"[16]\", line 10, characters 55-66\nCalled from parseC in file \"[16]\", line 10, characters 55-66\nCalled from parseC in file \"[16]\", line 10, characters 55-66\nCalled from parseC in file \"[16]\", line 10, characters 55-66\nCalled from parseC in file \"[16]\", line 10, characters 55-66\nCalled from parseC in file \"[16]\", line 10, characters 55-66\nCalled from parseC in file \"[16]\", line 10, characters 55-66\nCalled from parseC in file \"[16]\", line 10, characters 55-66\nCalled from parseC in file \"[16]\", line 10, characters 55-66\nCalled from parseC in file \"[16]\", line 10, characters 55-66\nCalled from parseC in file \"[16]\", line 10, characters 55-66\nCalled from parseC in file \"[16]\", line 10, characters 55-66\nCalled from parseC in file \"[16]\", line 10, characters 55-66\nCalled from parseC in file \"[16]\", line 10, characters 55-66\nCalled from parseC in file \"[16]\", line 10, characters 55-66\nCalled from parseC in file \"[16]\", line 10, characters 55-66\nCalled from parseC in file \"[16]\", line 10, characters 55-66\nCalled from parseC in file \"[16]\", line 10, characters 55-66\nCalled from parseC in file \"[16]\", line 10, characters 55-66\nCalled from parseC in file \"[16]\", line 10, characters 55-66\nCalled from parseC in file \"[16]\", line 10, characters 55-66\nCalled from parseC in file \"[16]\", line 10, characters 55-66\nCalled from parseC in file \"[16]\", line 10, characters 55-66\nCalled from parseC in file \"[16]\", line 10, characters 55-66\nCalled from parseC in file \"[16]\", line 10, characters 55-66\nCalled from parseC in file \"[16]\", line 10, characters 55-66\nCalled from parseC in file \"[16]\", line 10, characters 55-66\nCalled from parseC in file \"[16]\", line 10, characters 55-66\nCalled from parseC in file \"[16]\", line 10, characters 55-66\nCalled from parseC in file \"[16]\", line 10, characters 55-66\nCalled from parseC in file \"[16]\", line 10, characters 55-66\nCalled from parseC in file \"[16]\", line 10, characters 55-66\nCalled from parseC in file \"[16]\", line 10, characters 55-66\nCalled from parseC in file \"[16]\", line 10, characters 55-66\nCalled from parseC in file \"[16]\", line 10, characters 55-66\nCalled from parseC in file \"[16]\", line 10, characters 55-66\nCalled from parseC in file \"[16]\", line 10, characters 55-66\nCalled from parseC in file \"[16]\", line 10, characters 55-66\nCalled from parseC in file \"[16]\", line 10, characters 55-66\nCalled from parseC in file \"[16]\", line 10, characters 55-66\nCalled from parseC in file \"[16]\", line 10, characters 55-66\nCalled from parseC in file \"[16]\", line 10, characters 55-66\nCalled from parseC in file \"[16]\", line 10, characters 55-66\nCalled from parseC in file \"[16]\", line 10, characters 55-66\nCalled from parseC in file \"[16]\", line 10, characters 55-66\nCalled from parseC in file \"[16]\", line 10, characters 55-66\nCalled from parseC in file \"[16]\", line 10, characters 55-66\nCalled from parseC in file \"[16]\", line 10, characters 55-66\nCalled from parseC in file \"[16]\", line 10, characters 55-66\nCalled from parseC in file \"[16]\", line 10, characters 55-66\nCalled from parseC in file \"[16]\", line 10, characters 55-66\nCalled from parseC in file \"[16]\", line 10, characters 55-66\nCalled from parseC in file \"[16]\", line 10, characters 55-66\nCalled from parseC in file \"[16]\", line 10, characters 55-66\nCalled from parseC in file \"[16]\", line 10, characters 55-66\nCalled from parseC in file \"[16]\", line 10, characters 55-66\nCalled from parseC in file \"[16]\", line 10, characters 55-66\nCalled from parseC in file \"[16]\", line 10, characters 55-66\nCalled from parseC in file \"[16]\", line 10, characters 55-66\nCalled from parseC in file \"[16]\", line 10, characters 55-66\nCalled from parseC in file \"[16]\", line 10, characters 55-66\nCalled from parseC in file \"[16]\", line 10, characters 55-66\nCalled from parseC in file \"[16]\", line 10, characters 55-66\nCalled from parseC in file \"[16]\", line 10, characters 55-66\nCalled from parseC in file \"[16]\", line 10, characters 55-66\nCalled from parseC in file \"[16]\", line 10, characters 55-66\nCalled from parseC in file \"[16]\", line 10, characters 55-66\nCalled from parseC in file \"[16]\", line 10, characters 55-66\nCalled from parseC in file \"[16]\", line 10, characters 55-66\nCalled from parseC in file \"[16]\", line 10, characters 55-66\nCalled from parseC in file \"[16]\", line 10, characters 55-66\nCalled from parseC in file \"[16]\", line 10, characters 55-66\nCalled from parseC in file \"[16]\", line 10, characters 55-66\nCalled from parseC in file \"[16]\", line 10, characters 55-66\nCalled from parseC in file \"[16]\", line 10, characters 55-66\nCalled from parseC in file \"[16]\", line 10, characters 55-66\nCalled from parseC in file \"[16]\", line 10, characters 55-66\nCalled from parseC in file \"[16]\", line 10, characters 55-66\nCalled from parseC in file \"[16]\", line 10, characters 55-66\nCalled from parseC in file \"[16]\", line 10, characters 55-66\nCalled from parseC in file \"[16]\", line 10, characters 55-66\nCalled from parseC in file \"[16]\", line 10, characters 55-66\nCalled from parseC in file \"[16]\", line 10, characters 55-66\nCalled from parseC in file \"[16]\", line 10, characters 55-66\nCalled from parseC in file \"[16]\", line 10, characters 55-66\nCalled from parseC in file \"[16]\", line 10, characters 55-66\nCalled from parseC in file \"[16]\", line 10, characters 55-66\nCalled from parseC in file \"[16]\", line 10, characters 55-66\nCalled from parseC in file \"[16]\", line 10, characters 55-66\nCalled from parseC in file \"[16]\", line 10, characters 55-66\nCalled from parseC in file \"[16]\", line 10, characters 55-66\nCalled from parseC in file \"[16]\", line 10, characters 55-66\nCalled from parseC in file \"[16]\", line 10, characters 55-66\nCalled from parseC in file \"[16]\", line 10, characters 55-66\nCalled from parseC in file \"[16]\", line 10, characters 55-66\nCalled from parseC in file \"[16]\", line 10, characters 55-66\nCalled from parseC in file \"[16]\", line 10, characters 55-66\nCalled from parseC in file \"[16]\", line 10, characters 55-66\nCalled from parseC in file \"[16]\", line 10, characters 55-66\nCalled from parseC in file \"[16]\", line 10, characters 55-66\nCalled from parseC in file \"[16]\", line 10, characters 55-66\nCalled from parseC in file \"[16]\", line 10, characters 55-66\nCalled from parseC in file \"[16]\", line 10, characters 55-66\nCalled from parseC in file \"[16]\", line 10, characters 55-66\nCalled from parseC in file \"[16]\", line 10, characters 55-66\nCalled from parseC in file \"[16]\", line 10, characters 55-66\nCalled from parseC in file \"[16]\", line 10, characters 55-66\nCalled from parseC in file \"[16]\", line 10, characters 55-66\nCalled from parseC in file \"[16]\", line 10, characters 55-66\nCalled from parseC in file \"[16]\", line 10, characters 55-66\nCalled from parseC in file \"[16]\", line 10, characters 55-66\nCalled from parseC in file \"[16]\", line 10, characters 55-66\nCalled from parseC in file \"[16]\", line 10, characters 55-66\nCalled from parseC in file \"[16]\", line 10, characters 55-66\nCalled from parseC in file \"[16]\", line 10, characters 55-66\nCalled from parseC in file \"[16]\", line 10, characters 55-66\nCalled from parseC in file \"[16]\", line 10, characters 55-66\nCalled from parseC in file \"[16]\", line 10, characters 55-66\nCalled from parseC in file \"[16]\", line 10, characters 55-66\nCalled from parseC in file \"[16]\", line 10, characters 55-66\nCalled from parseC in file \"[16]\", line 10, characters 55-66\nCalled from parseC in file \"[16]\", line 10, characters 55-66\nCalled from parseC in file \"[16]\", line 10, characters 55-66\nCalled from parseC in file \"[16]\", line 10, characters 55-66\nCalled from parseC in file \"[16]\", line 10, characters 55-66\nCalled from parseC in file \"[16]\", line 10, characters 55-66\nCalled from parseC in file \"[16]\", line 10, characters 55-66\nCalled from parseC in file \"[16]\", line 10, characters 55-66\nCalled from parseC in file \"[16]\", line 10, characters 55-66\nCalled from parseC in file \"[16]\", line 10, characters 55-66\nCalled from parseC in file \"[16]\", line 10, characters 55-66\nCalled from parseC in file \"[16]\", line 10, characters 55-66\nCalled from parseC in file \"[16]\", line 10, characters 55-66\nCalled from parseC in file \"[16]\", line 10, characters 55-66\nCalled from parseC in file \"[16]\", line 10, characters 55-66\nCalled from parseC in file \"[16]\", line 10, characters 55-66\nCalled from parseC in file \"[16]\", line 10, characters 55-66\nCalled from parseC in file \"[16]\", line 10, characters 55-66\nCalled from parseC in file \"[16]\", line 10, characters 55-66\nCalled from parseC in file \"[16]\", line 10, characters 55-66\nCalled from parseC in file \"[16]\", line 10, characters 55-66\nCalled from parseC in file \"[16]\", line 10, characters 55-66\nCalled from parseC in file \"[16]\", line 10, characters 55-66\nCalled from parseC in file \"[16]\", line 10, characters 55-66\nCalled from parseC in file \"[16]\", line 10, characters 55-66\nCalled from parseC in file \"[16]\", line 10, characters 55-66\nCalled from parseC in file \"[16]\", line 10, characters 55-66\nCalled from parseC in file \"[16]\", line 10, characters 55-66\nCalled from parseC in file \"[16]\", line 10, characters 55-66\nCalled from parseC in file \"[16]\", line 10, characters 55-66\nCalled from parseC in file \"[16]\", line 10, characters 55-66\nCalled from parseC in file \"[16]\", line 10, characters 55-66\nCalled from parseC in file \"[16]\", line 10, characters 55-66\nCalled from parseC in file \"[16]\", line 10, characters 55-66\nCalled from parseC in file \"[16]\", line 10, characters 55-66\nCalled from parseC in file \"[16]\", line 10, characters 55-66\nCalled from parseC in file \"[16]\", line 10, characters 55-66\nCalled from parseC in file \"[16]\", line 10, characters 55-66\nCalled from parseC in file \"[16]\", line 10, characters 55-66\nCalled from parseC in file \"[16]\", line 10, characters 55-66\nCalled from parseC in file \"[16]\", line 10, characters 55-66\nCalled from parseC in file \"[16]\", line 10, characters 55-66\nCalled from parseC in file \"[16]\", line 10, characters 55-66\nCalled from parseC in file \"[16]\", line 10, characters 55-66\nCalled from parseC in file \"[16]\", line 10, characters 55-66\nCalled from parseC in file \"[16]\", line 10, characters 55-66\nCalled from parseC in file \"[16]\", line 10, characters 55-66\nCalled from parseC in file \"[16]\", line 10, characters 55-66\nCalled from parseC in file \"[16]\", line 10, characters 55-66\nCalled from parseC in file \"[16]\", line 10, characters 55-66\nCalled from parseC in file \"[16]\", line 10, characters 55-66\nCalled from parseC in file \"[16]\", line 10, characters 55-66\nCalled from parseC in file \"[16]\", line 10, characters 55-66\nCalled from parseC in file \"[16]\", line 10, characters 55-66\nCalled from parseC in file \"[16]\", line 10, characters 55-66\nCalled from parseC in file \"[16]\", line 10, characters 55-66\nCalled from parseC in file \"[16]\", line 10, characters 55-66\nCalled from parseC in file \"[16]\", line 10, characters 55-66\nCalled from parseC in file \"[16]\", line 10, characters 55-66\nCalled from parseC in file \"[16]\", line 10, characters 55-66\nCalled from parseC in file \"[16]\", line 10, characters 55-66\nCalled from parseC in file \"[16]\", line 10, characters 55-66\nCalled from parseC in file \"[16]\", line 10, characters 55-66\nCalled from parseC in file \"[16]\", line 10, characters 55-66\nCalled from parseC in file \"[16]\", line 10, characters 55-66\nCalled from parseC in file \"[16]\", line 10, characters 55-66\nCalled from parseC in file \"[16]\", line 10, characters 55-66\nCalled from parseC in file \"[16]\", line 10, characters 55-66\nCalled from parseC in file \"[16]\", line 10, characters 55-66\nCalled from parseC in file \"[16]\", line 10, characters 55-66\nCalled from parseC in file \"[16]\", line 10, characters 55-66\nCalled from parseC in file \"[16]\", line 10, characters 55-66\nCalled from parseC in file \"[16]\", line 10, characters 55-66\nCalled from parseC in file \"[16]\", line 10, characters 55-66\nCalled from parseC in file \"[16]\", line 10, characters 55-66\nCalled from parseC in file \"[16]\", line 10, characters 55-66\nCalled from parseC in file \"[16]\", line 10, characters 55-66\nCalled from parseC in file \"[16]\", line 10, characters 55-66\nCalled from parseC in file \"[16]\", line 10, characters 55-66\nCalled from parseC in file \"[16]\", line 10, characters 55-66\nCalled from parseC in file \"[16]\", line 10, characters 55-66\nCalled from parseC in file \"[16]\", line 10, characters 55-66\nCalled from parseC in file \"[16]\", line 10, characters 55-66\nCalled from parseC in file \"[16]\", line 10, characters 55-66\nCalled from parseC in file \"[16]\", line 10, characters 55-66\nCalled from parseC in file \"[16]\", line 10, characters 55-66\nCalled from parseC in file \"[16]\", line 10, characters 55-66\nCalled from parseC in file \"[16]\", line 10, characters 55-66\nCalled from parseC in file \"[16]\", line 10, characters 55-66\nCalled from parseC in file \"[16]\", line 10, characters 55-66\nCalled from parseC in file \"[16]\", line 10, characters 55-66\nCalled from parseC in file \"[16]\", line 10, characters 55-66\nCalled from parseC in file \"[16]\", line 10, characters 55-66\nCalled from parseC in file \"[16]\", line 10, characters 55-66\nCalled from parseC in file \"[16]\", line 10, characters 55-66\nCalled from parseC in file \"[16]\", line 10, characters 55-66\nCalled from parseC in file \"[16]\", line 10, characters 55-66\nCalled from parseC in file \"[16]\", line 10, characters 55-66\nCalled from parseC in file \"[16]\", line 10, characters 55-66\nCalled from parseC in file \"[16]\", line 10, characters 55-66\nCalled from parseC in file \"[16]\", line 10, characters 55-66\nCalled from parseC in file \"[16]\", line 10, characters 55-66\nCalled from parseC in file \"[16]\", line 10, characters 55-66\nCalled from parseC in file \"[16]\", line 10, characters 55-66\nCalled from parseC in file \"[16]\", line 10, characters 55-66\nCalled from parseC in file \"[16]\", line 10, characters 55-66\nCalled from parseC in file \"[16]\", line 10, characters 55-66\nCalled from parseC in file \"[16]\", line 10, characters 55-66\nCalled from parseC in file \"[16]\", line 10, characters 55-66\nCalled from parseC in file \"[16]\", line 10, characters 55-66\nCalled from parseC in file \"[16]\", line 10, characters 55-66\nCalled from parseC in file \"[16]\", line 10, characters 55-66\nCalled from parseC in file \"[16]\", line 10, characters 55-66\nCalled from parseC in file \"[16]\", line 10, characters 55-66\nCalled from parseC in file \"[16]\", line 10, characters 55-66\nCalled from parseC in file \"[16]\", line 10, characters 55-66\nCalled from parseC in file \"[16]\", line 10, characters 55-66\nCalled from parseC in file \"[16]\", line 10, characters 55-66\nCalled from parseC in file \"[16]\", line 10, characters 55-66\nCalled from parseC in file \"[16]\", line 10, characters 55-66\nCalled from parseC in file \"[16]\", line 10, characters 55-66\nCalled from parseC in file \"[16]\", line 10, characters 55-66\nCalled from parseC in file \"[16]\", line 10, characters 55-66\nCalled from parseC in file \"[16]\", line 10, characters 55-66\nCalled from parseC in file \"[16]\", line 10, characters 55-66\nCalled from parseC in file \"[16]\", line 10, characters 55-66\nCalled from parseC in file \"[16]\", line 10, characters 55-66\nCalled from parseC in file \"[16]\", line 10, characters 55-66\nCalled from parseC in file \"[16]\", line 10, characters 55-66\nCalled from parseC in file \"[16]\", line 10, characters 55-66\nCalled from parseC in file \"[16]\", line 10, characters 55-66\nCalled from parseC in file \"[16]\", line 10, characters 55-66\nCalled from parseC in file \"[16]\", line 10, characters 55-66\nCalled from parseC in file \"[16]\", line 10, characters 55-66\nCalled from parseC in file \"[16]\", line 10, characters 55-66\nCalled from parseC in file \"[16]\", line 10, characters 55-66\nCalled from parseC in file \"[16]\", line 10, characters 55-66\nCalled from parseC in file \"[16]\", line 10, characters 55-66\nCalled from parseC in file \"[16]\", line 10, characters 55-66\nCalled from parseC in file \"[16]\", line 10, characters 55-66\nCalled from parseC in file \"[16]\", line 10, characters 55-66\nCalled from parseC in file \"[16]\", line 10, characters 55-66\nCalled from parseC in file \"[16]\", line 10, characters 55-66\nCalled from parseC in file \"[16]\", line 10, characters 55-66\nCalled from parseC in file \"[16]\", line 10, characters 55-66\nCalled from parseC in file \"[16]\", line 10, characters 55-66\nCalled from parseC in file \"[16]\", line 10, characters 55-66\nCalled from parseC in file \"[16]\", line 10, characters 55-66\nCalled from parseC in file \"[16]\", line 10, characters 55-66\nCalled from parseC in file \"[16]\", line 10, characters 55-66\nCalled from parseC in file \"[16]\", line 10, characters 55-66\nCalled from parseC in file \"[16]\", line 10, characters 55-66\nCalled from parseC in file \"[16]\", line 10, characters 55-66\nCalled from parseC in file \"[16]\", line 10, characters 55-66\nCalled from parseC in file \"[16]\", line 10, characters 55-66\nCalled from parseC in file \"[16]\", line 10, characters 55-66\nCalled from parseC in file \"[16]\", line 10, characters 55-66\nCalled from parseC in file \"[16]\", line 10, characters 55-66\nCalled from parseC in file \"[16]\", line 10, characters 55-66\nCalled from parseC in file \"[16]\", line 10, characters 55-66\nCalled from parseC in file \"[16]\", line 10, characters 55-66\nCalled from parseC in file \"[16]\", line 10, characters 55-66\nCalled from parseC in file \"[16]\", line 10, characters 55-66\nCalled from parseC in file \"[16]\", line 10, characters 55-66\nCalled from parseC in file \"[16]\", line 10, characters 55-66\nCalled from parseC in file \"[16]\", line 10, characters 55-66\nCalled from parseC in file \"[16]\", line 10, characters 55-66\nCalled from parseC in file \"[16]\", line 10, characters 55-66\nCalled from parseC in file \"[16]\", line 10, characters 55-66\nCalled from parseC in file \"[16]\", line 10, characters 55-66\nCalled from parseC in file \"[16]\", line 10, characters 55-66\nCalled from parseC in file \"[16]\", line 10, characters 55-66\nCalled from parseC in file \"[16]\", line 10, characters 55-66\nCalled from parseC in file \"[16]\", line 10, characters 55-66\nCalled from parseC in file \"[16]\", line 10, characters 55-66\nCalled from parseC in file \"[16]\", line 10, characters 55-66\nCalled from parseC in file \"[16]\", line 10, characters 55-66\nCalled from parseC in file \"[16]\", line 10, characters 55-66\nCalled from parseC in file \"[16]\", line 10, characters 55-66\nCalled from parseC in file \"[16]\", line 10, characters 55-66\nCalled from parseC in file \"[16]\", line 10, characters 55-66\nCalled from parseC in file \"[16]\", line 10, characters 55-66\nCalled from parseC in file \"[16]\", line 10, characters 55-66\nCalled from parseC in file \"[16]\", line 10, characters 55-66\nCalled from parseC in file \"[16]\", line 10, characters 55-66\nCalled from parseC in file \"[16]\", line 10, characters 55-66\nCalled from parseC in file \"[16]\", line 10, characters 55-66\nCalled from parseC in file \"[16]\", line 10, characters 55-66\nCalled from parseC in file \"[16]\", line 10, characters 55-66\nCalled from parseC in file \"[16]\", line 10, characters 55-66\nCalled from parseC in file \"[16]\", line 10, characters 55-66\nCalled from parseC in file \"[16]\", line 10, characters 55-66\nCalled from parseC in file \"[16]\", line 10, characters 55-66\nCalled from parseC in file \"[16]\", line 10, characters 55-66\nCalled from parseC in file \"[16]\", line 10, characters 55-66\nCalled from parseC in file \"[16]\", line 10, characters 55-66\nCalled from parseC in file \"[16]\", line 10, characters 55-66\nCalled from parseC in file \"[16]\", line 10, characters 55-66\nCalled from parseC in file \"[16]\", line 10, characters 55-66\nCalled from parseC in file \"[16]\", line 10, characters 55-66\nCalled from parseC in file \"[16]\", line 10, characters 55-66\nCalled from parseC in file \"[16]\", line 10, characters 55-66\nCalled from parseC in file \"[16]\", line 10, characters 55-66\nCalled from parseC in file \"[16]\", line 10, characters 55-66\nCalled from parseC in file \"[16]\", line 10, characters 55-66\nCalled from parseC in file \"[16]\", line 10, characters 55-66\nCalled from parseC in file \"[16]\", line 10, characters 55-66\nCalled from parseC in file \"[16]\", line 10, characters 55-66\nCalled from parseC in file \"[16]\", line 10, characters 55-66\nCalled from parseC in file \"[16]\", line 10, characters 55-66\nCalled from parseC in file \"[16]\", line 10, characters 55-66\nCalled from parseC in file \"[16]\", line 10, characters 55-66\nCalled from parseC in file \"[16]\", line 10, characters 55-66\nCalled from parseC in file \"[16]\", line 10, characters 55-66\nCalled from parseC in file \"[16]\", line 10, characters 55-66\nCalled from parseC in file \"[16]\", line 10, characters 55-66\nCalled from parseC in file \"[16]\", line 10, characters 55-66\nCalled from parseC in file \"[16]\", line 10, characters 55-66\nCalled from parseC in file \"[16]\", line 10, characters 55-66\nCalled from parseC in file \"[16]\", line 10, characters 55-66\nCalled from parseC in file \"[16]\", line 10, characters 55-66\nCalled from parseC in file \"[16]\", line 10, characters 55-66\nCalled from parseC in file \"[16]\", line 10, characters 55-66\nCalled from parseC in file \"[16]\", line 10, characters 55-66\nCalled from parseC in file \"[16]\", line 10, characters 55-66\nCalled from parseC in file \"[16]\", line 10, characters 55-66\nCalled from parseC in file \"[16]\", line 10, characters 55-66\nCalled from parseC in file \"[16]\", line 10, characters 55-66\nCalled from parseC in file \"[16]\", line 10, characters 55-66\nCalled from parseC in file \"[16]\", line 10, characters 55-66\nCalled from parseC in file \"[16]\", line 10, characters 55-66\nCalled from parseC in file \"[16]\", line 10, characters 55-66\nCalled from parseC in file \"[16]\", line 10, characters 55-66\nCalled from parseC in file \"[16]\", line 10, characters 55-66\nCalled from parseC in file \"[16]\", line 10, characters 55-66\nCalled from parseC in file \"[16]\", line 10, characters 55-66\nCalled from parseC in file \"[16]\", line 10, characters 55-66\nCalled from parseC in file \"[16]\", line 10, characters 55-66\nCalled from parseC in file \"[16]\", line 10, characters 55-66\nCalled from parseC in file \"[16]\", line 10, characters 55-66\nCalled from parseC in file \"[16]\", line 10, characters 55-66\nCalled from parseC in file \"[16]\", line 10, characters 55-66\nCalled from parseC in file \"[16]\", line 10, characters 55-66\nCalled from parseC in file \"[16]\", line 10, characters 55-66\nCalled from parseC in file \"[16]\", line 10, characters 55-66\nCalled from parseC in file \"[16]\", line 10, characters 55-66\nCalled from parseC in file \"[16]\", line 10, characters 55-66\nCalled from parseC in file \"[16]\", line 10, characters 55-66\nCalled from parseC in file \"[16]\", line 10, characters 55-66\nCalled from parseC in file \"[16]\", line 10, characters 55-66\nCalled from parseC in file \"[16]\", line 10, characters 55-66\nCalled from parseC in file \"[16]\", line 10, characters 55-66\nCalled from parseC in file \"[16]\", line 10, characters 55-66\nCalled from parseC in file \"[16]\", line 10, characters 55-66\nCalled from parseC in file \"[16]\", line 10, characters 55-66\nCalled from parseC in file \"[16]\", line 10, characters 55-66\nCalled from parseC in file \"[16]\", line 10, characters 55-66\nCalled from parseC in file \"[16]\", line 10, characters 55-66\nCalled from parseC in file \"[16]\", line 10, characters 55-66\nCalled from parseC in file \"[16]\", line 10, characters 55-66\nCalled from parseC in file \"[16]\", line 10, characters 55-66\nCalled from parseC in file \"[16]\", line 10, characters 55-66\nCalled from parseC in file \"[16]\", line 10, characters 55-66\nCalled from parseC in file \"[16]\", line 10, characters 55-66\nCalled from parseC in file \"[16]\", line 10, characters 55-66\nCalled from parseC in file \"[16]\", line 10, characters 55-66\nCalled from parseC in file \"[16]\", line 10, characters 55-66\nCalled from parseC in file \"[16]\", line 10, characters 55-66\nCalled from parseC in file \"[16]\", line 10, characters 55-66\nCalled from parseC in file \"[16]\", line 10, characters 55-66\nCalled from parseC in file \"[16]\", line 10, characters 55-66\nCalled from parseC in file \"[16]\", line 10, characters 55-66\nCalled from parseC in file \"[16]\", line 10, characters 55-66\nCalled from parseC in file \"[16]\", line 10, characters 55-66\nCalled from parseC in file \"[16]\", line 10, characters 55-66\nCalled from parseC in file \"[16]\", line 10, characters 55-66\nCalled from parseC in file \"[16]\", line 10, characters 55-66\nCalled from parseC in file \"[16]\", line 10, characters 55-66\nCalled from parseC in file \"[16]\", line 10, characters 55-66\nCalled from parseC in file \"[16]\", line 10, characters 55-66\nCalled from parseC in file \"[16]\", line 10, characters 55-66\nCalled from parseC in file \"[16]\", line 10, characters 55-66\nCalled from parseC in file \"[16]\", line 10, characters 55-66\nCalled from parseC in file \"[16]\", line 10, characters 55-66\nCalled from parseC in file \"[16]\", line 10, characters 55-66\nCalled from parseC in file \"[16]\", line 10, characters 55-66\nCalled from parseC in file \"[16]\", line 10, characters 55-66\nCalled from parseC in file \"[16]\", line 10, characters 55-66\nCalled from parseC in file \"[16]\", line 10, characters 55-66\nCalled from parseC in file \"[16]\", line 10, characters 55-66\nCalled from parseC in file \"[16]\", line 10, characters 55-66\nCalled from parseC in file \"[16]\", line 10, characters 55-66\nCalled from parseC in file \"[16]\", line 10, characters 55-66\nCalled from parseC in file \"[16]\", line 10, characters 55-66\nCalled from parseC in file \"[16]\", line 10, characters 55-66\nCalled from parseC in file \"[16]\", line 10, characters 55-66\nCalled from parseC in file \"[16]\", line 10, characters 55-66\nCalled from parseC in file \"[16]\", line 10, characters 55-66\nCalled from parseC in file \"[16]\", line 10, characters 55-66\nCalled from parseC in file \"[16]\", line 10, characters 55-66\nCalled from parseC in file \"[16]\", line 10, characters 55-66\nCalled from parseC in file \"[16]\", line 10, characters 55-66\nCalled from parseC in file \"[16]\", line 10, characters 55-66\nCalled from parseC in file \"[16]\", line 10, characters 55-66\nCalled from parseC in file \"[16]\", line 10, characters 55-66\nCalled from parseC in file \"[16]\", line 10, characters 55-66\nCalled from parseC in file \"[16]\", line 10, characters 55-66\nCalled from parseC in file \"[16]\", line 10, characters 55-66\nCalled from parseC in file \"[16]\", line 10, characters 55-66\nCalled from parseC in file \"[16]\", line 10, characters 55-66\nCalled from parseC in file \"[16]\", line 10, characters 55-66\nCalled from parseC in file \"[16]\", line 10, characters 55-66\nCalled from parseC in file \"[16]\", line 10, characters 55-66\nCalled from parseC in file \"[16]\", line 10, characters 55-66\nCalled from parseC in file \"[16]\", line 10, characters 55-66\nCalled from parseC in file \"[16]\", line 10, characters 55-66\nCalled from parseC in file \"[16]\", line 10, characters 55-66\nCalled from parseC in file \"[16]\", line 10, characters 55-66\nCalled from parseC in file \"[16]\", line 10, characters 55-66\nCalled from parseC in file \"[16]\", line 10, characters 55-66\nCalled from parseC in file \"[16]\", line 10, characters 55-66\nCalled from parseC in file \"[16]\", line 10, characters 55-66\nCalled from parseC in file \"[16]\", line 10, characters 55-66\nCalled from parseC in file \"[16]\", line 10, characters 55-66\nCalled from parseC in file \"[16]\", line 10, characters 55-66\nCalled from parseC in file \"[16]\", line 10, characters 55-66\nCalled from parseC in file \"[16]\", line 10, characters 55-66\nCalled from parseC in file \"[16]\", line 10, characters 55-66\nCalled from parseC in file \"[16]\", line 10, characters 55-66\nCalled from parseC in file \"[16]\", line 10, characters 55-66\nCalled from parseC in file \"[16]\", line 10, characters 55-66\nCalled from parseC in file \"[16]\", line 10, characters 55-66\nCalled from parseC in file \"[16]\", line 10, characters 55-66\nCalled from parseC in file \"[16]\", line 10, characters 55-66\nCalled from parseC in file \"[16]\", line 10, characters 55-66\nCalled from parseC in file \"[16]\", line 10, characters 55-66\nCalled from parseC in file \"[16]\", line 10, characters 55-66\nCalled from parseC in file \"[16]\", line 10, characters 55-66\nCalled from parseC in file \"[16]\", line 10, characters 55-66\nCalled from parseC in file \"[16]\", line 10, characters 55-66\nCalled from parseC in file \"[16]\", line 10, characters 55-66\nCalled from parseC in file \"[16]\", line 10, characters 55-66\nCalled from parseC in file \"[16]\", line 10, characters 55-66\nCalled from parseC in file \"[16]\", line 10, characters 55-66\nCalled from parseC in file \"[16]\", line 10, characters 55-66\nCalled from parseC in file \"[16]\", line 10, characters 55-66\nCalled from parseC in file \"[16]\", line 10, characters 55-66\nCalled from parseC in file \"[16]\", line 10, characters 55-66\nCalled from parseC in file \"[16]\", line 10, characters 55-66\nCalled from parseC in file \"[16]\", line 10, characters 55-66\nCalled from parseC in file \"[16]\", line 10, characters 55-66\nCalled from parseC in file \"[16]\", line 10, characters 55-66\nCalled from parseC in file \"[16]\", line 10, characters 55-66\nCalled from parseC in file \"[16]\", line 10, characters 55-66\nCalled from parseC in file \"[16]\", line 10, characters 55-66\nCalled from parseC in file \"[16]\", line 10, characters 55-66\nCalled from parseC in file \"[16]\", line 10, characters 55-66\nCalled from parseC in file \"[16]\", line 10, characters 55-66\nCalled from parseC in file \"[16]\", line 10, characters 55-66\nCalled from parseC in file \"[16]\", line 10, characters 55-66\nCalled from parseC in file \"[16]\", line 10, characters 55-66\nCalled from parseC in file \"[16]\", line 10, characters 55-66\nCalled from parseC in file \"[16]\", line 10, characters 55-66\nCalled from parseC in file \"[16]\", line 10, characters 55-66\nCalled from parseC in file \"[16]\", line 10, characters 55-66\nCalled from parseC in file \"[16]\", line 10, characters 55-66\nCalled from parseC in file \"[16]\", line 10, characters 55-66\nCalled from parseC in file \"[16]\", line 10, characters 55-66\nCalled from parseC in file \"[16]\", line 10, characters 55-66\nCalled from parseC in file \"[16]\", line 10, characters 55-66\nCalled from parseC in file \"[16]\", line 10, characters 55-66\nCalled from parseC in file \"[16]\", line 10, characters 55-66\nCalled from parseC in file \"[16]\", line 10, characters 55-66\nCalled from parseC in file \"[16]\", line 10, characters 55-66\nCalled from parseC in file \"[16]\", line 10, characters 55-66\nCalled from parseC in file \"[16]\", line 10, characters 55-66\nCalled from parseC in file \"[16]\", line 10, characters 55-66\nCalled from parseC in file \"[16]\", line 10, characters 55-66\nCalled from parseC in file \"[16]\", line 10, characters 55-66\nCalled from parseC in file \"[16]\", line 10, characters 55-66\nCalled from parseC in file \"[16]\", line 10, characters 55-66\nCalled from parseC in file \"[16]\", line 10, characters 55-66\nCalled from parseC in file \"[16]\", line 10, characters 55-66\nCalled from parseC in file \"[16]\", line 10, characters 55-66\nCalled from parseC in file \"[16]\", line 10, characters 55-66\n\u001b[0m"
     ]
    }
   ],
   "source": [
    "parseC [SEMI; INT; SEMI; INT]"
   ]
  },
  {
   "attachments": {},
   "cell_type": "markdown",
   "id": "cd751141",
   "metadata": {},
   "source": [
    "## List Recognizer\n",
    "\n",
    "See the following concrete grammar for lists: \n",
    "\n",
    "```\n",
    "L ::= (  [C]  )\n",
    "C ::= int [;  C] \n",
    "```\n",
    "\n",
    "We can define the recognizer as follows:"
   ]
  },
  {
   "cell_type": "code",
   "execution_count": 18,
   "id": "f09118cb",
   "metadata": {},
   "outputs": [
    {
     "data": {
      "text/plain": [
       "type token = LBRA | RBRA | INT | SEMI | EOF\n"
      ]
     },
     "execution_count": 18,
     "metadata": {},
     "output_type": "execute_result"
    },
    {
     "data": {
      "text/plain": [
       "val parse_token : token -> token list -> token list = <fun>\n"
      ]
     },
     "execution_count": 18,
     "metadata": {},
     "output_type": "execute_result"
    },
    {
     "data": {
      "text/plain": [
       "val parseL : token list -> token list = <fun>\n",
       "val parseC : token list -> token list = <fun>\n"
      ]
     },
     "execution_count": 18,
     "metadata": {},
     "output_type": "execute_result"
    }
   ],
   "source": [
    "type token = LBRA | RBRA | INT | SEMI | EOF\n",
    "\n",
    "let parse_token (x : token) (xs : token list) = match xs with \n",
    "| y :: ys -> if (x == y) then ys else raise (SyntaxError \"Token expected.\")\n",
    "| _ -> raise (SyntaxError \"Token expected.\") \n",
    "\n",
    "let rec parseL ts = match (parse_token LBRA ts) with \n",
    "                    | RBRA :: ts' -> ts'\n",
    "                    | ts' -> parse_token RBRA (parseC ts')\n",
    "\n",
    "and parseC ts = match (parse_token INT ts) with \n",
    "                | SEMI :: ts' -> parseC ts'\n",
    "                | ts' -> ts'"
   ]
  },
  {
   "cell_type": "code",
   "execution_count": 19,
   "id": "82a0012b",
   "metadata": {},
   "outputs": [
    {
     "data": {
      "text/plain": [
       "- : token list = []\n"
      ]
     },
     "execution_count": 19,
     "metadata": {},
     "output_type": "execute_result"
    }
   ],
   "source": [
    "parseL [LBRA; INT; SEMI; INT; RBRA]"
   ]
  },
  {
   "attachments": {},
   "cell_type": "markdown",
   "id": "8bd4aaf0",
   "metadata": {},
   "source": [
    "## Expressions \n",
    "\n",
    "In the lecture you have learned how to get a concrete grammar for expressions: \n",
    "```\n",
    "exp := term [{+/-} exp]\n",
    "term := base [{*|/} term]\n",
    "base := id | int | (exp)\n",
    "\n",
    "```\n",
    "\n",
    "Below you can find the corresponding parser:"
   ]
  },
  {
   "cell_type": "code",
   "execution_count": 20,
   "id": "8bf72565",
   "metadata": {},
   "outputs": [
    {
     "data": {
      "text/plain": [
       "type op = Plus | Minus | Mult | Div\n"
      ]
     },
     "execution_count": 20,
     "metadata": {},
     "output_type": "execute_result"
    },
    {
     "data": {
      "text/plain": [
       "type exp = Id of string | Numb of int | Op of exp * op * exp\n"
      ]
     },
     "execution_count": 20,
     "metadata": {},
     "output_type": "execute_result"
    },
    {
     "data": {
      "text/plain": [
       "type token =\n",
       "    ID of string\n",
       "  | INT of int\n",
       "  | PLUS\n",
       "  | MINUS\n",
       "  | STAR\n",
       "  | SLASH\n",
       "  | LBRA\n",
       "  | RBRA\n"
      ]
     },
     "execution_count": 20,
     "metadata": {},
     "output_type": "execute_result"
    },
    {
     "data": {
      "text/plain": [
       "val parse_token : token -> token list -> token list = <fun>\n"
      ]
     },
     "execution_count": 20,
     "metadata": {},
     "output_type": "execute_result"
    },
    {
     "data": {
      "text/plain": [
       "val parse_exp : token list -> exp * token list = <fun>\n",
       "val parse_term : token list -> exp * token list = <fun>\n",
       "val parse_base : token list -> exp * token list = <fun>\n"
      ]
     },
     "execution_count": 20,
     "metadata": {},
     "output_type": "execute_result"
    }
   ],
   "source": [
    "type op = Plus | Minus | Mult | Div \n",
    "type exp = Id of string | Numb of int | Op of exp * op * exp \n",
    "\n",
    "type token = ID of string | INT of int\n",
    "           | PLUS  | MINUS | STAR | SLASH \n",
    "           | LBRA | RBRA \n",
    "\n",
    "let parse_token (x : token) (xs : token list) = match xs with \n",
    "| y :: ys -> if (x == y) then ys else raise (SyntaxError \"Token expected.\")\n",
    "| _ -> raise (SyntaxError \"Token expected.\") \n",
    "\n",
    "           \n",
    "let rec parse_exp (xs : token list) : exp * token list = let \n",
    "  (e1, xs') = parse_term xs in \n",
    "  match xs' with \n",
    "  | PLUS :: xs'' -> let \n",
    "      (e2, xs''') = parse_exp xs'' \n",
    "      in (Op (e1, Plus, e2), xs''')\n",
    "  | MINUS :: xs'' -> let \n",
    "      (e2, xs''') = parse_exp xs'' \n",
    "      in (Op (e1, Minus, e2), xs''')\n",
    "  | _ -> (e1, xs') \n",
    "           \n",
    "and parse_term (xs : token list) : exp * token list = let \n",
    "  (e1, xs') = parse_base xs in \n",
    "  match xs' with \n",
    "  | STAR :: xs'' -> let \n",
    "    (e2, xs''') = parse_term xs''\n",
    "      in (Op (e1, Mult, e2), xs''') \n",
    "  | SLASH :: xs'' -> let \n",
    "    (e2, xs''') = parse_term xs''\n",
    "      in (Op (e1, Div, e2), xs''')    \n",
    "  | _ -> (e1, xs')\n",
    "  \n",
    "and parse_base (xs : token list) : exp * token list = match xs with \n",
    "  | ID x :: xs' -> (Id x, xs')\n",
    "  | INT x :: xs' -> (Numb x , xs')\n",
    "  | LBRA :: xs' -> (let \n",
    "        (e, xs'') = parse_exp xs' in let\n",
    "         xs''' = parse_token RBRA xs''\n",
    "      in (e, xs'''))\n",
    "  | _ -> raise (SyntaxError \"Expected ID, INT or LBRA.\")   "
   ]
  },
  {
   "cell_type": "code",
   "execution_count": 21,
   "id": "21627589",
   "metadata": {},
   "outputs": [
    {
     "data": {
      "text/plain": [
       "- : exp * token list =\n",
       "(Op (Op (Numb 3, Plus, Id \"x\"), Mult, Op (Numb 5, Minus, Numb 2)), [])\n"
      ]
     },
     "execution_count": 21,
     "metadata": {},
     "output_type": "execute_result"
    }
   ],
   "source": [
    "parse_exp [LBRA; INT 3; PLUS; ID \"x\"; RBRA; STAR; LBRA; INT 5; MINUS; INT 2; RBRA]"
   ]
  }
 ],
 "metadata": {
  "kernelspec": {
   "display_name": "OCaml 4.13",
   "language": "OCaml",
   "name": "ocaml-jupyter-4.13"
  },
  "language_info": {
   "codemirror_mode": "text/x-ocaml",
   "file_extension": ".ml",
   "mimetype": "text/x-ocaml",
   "name": "OCaml",
   "nbconverter_exporter": null,
   "pygments_lexer": "OCaml",
   "version": "4.13.1"
  }
 },
 "nbformat": 4,
 "nbformat_minor": 5
}
