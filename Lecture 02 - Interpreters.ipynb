{
 "cells": [
  {
   "cell_type": "markdown",
   "id": "97fde2af",
   "metadata": {},
   "source": [
    "# Interpreters"
   ]
  },
  {
   "cell_type": "markdown",
   "id": "2420b126",
   "metadata": {},
   "source": [
    "## Expressions\n",
    "\n",
    "We represent simple expressions.\n",
    "\n",
    "An expression can be\n",
    "    - a number, e.g. ``Numb 3``\n",
    "    - a binary operation, taking a first expression, an operator symbol defined by ``op``, and a second expression."
   ]
  },
  {
   "cell_type": "code",
   "execution_count": 20,
   "id": "7f029aba",
   "metadata": {},
   "outputs": [
    {
     "data": {
      "text/plain": [
       "type op = Plus | Minus | Mult | Div\n"
      ]
     },
     "execution_count": 20,
     "metadata": {},
     "output_type": "execute_result"
    },
    {
     "data": {
      "text/plain": [
       "type exp = Numb of int | Op of exp * op * exp\n"
      ]
     },
     "execution_count": 20,
     "metadata": {},
     "output_type": "execute_result"
    }
   ],
   "source": [
    "type op = Plus | Minus | Mult | Div \n",
    "type exp =  Numb of int | Op of exp * op * exp "
   ]
  },
  {
   "cell_type": "markdown",
   "id": "a1e594d3",
   "metadata": {},
   "source": [
    "For example, the following expression represents the expression ``3 + (2 + 5)``: "
   ]
  },
  {
   "cell_type": "code",
   "execution_count": 21,
   "id": "7f1838d4",
   "metadata": {},
   "outputs": [
    {
     "data": {
      "text/plain": [
       "val e : exp = Op (Numb 3, Plus, Op (Numb 2, Plus, Numb 5))\n"
      ]
     },
     "execution_count": 21,
     "metadata": {},
     "output_type": "execute_result"
    }
   ],
   "source": [
    "let e = Op (Numb 3, Plus, Op (Numb 2, Plus, Numb 5))"
   ]
  },
  {
   "cell_type": "markdown",
   "id": "1cd4a222",
   "metadata": {},
   "source": [
    "Here are some more examples of expressions: "
   ]
  },
  {
   "cell_type": "code",
   "execution_count": 22,
   "id": "96b83597",
   "metadata": {},
   "outputs": [
    {
     "data": {
      "text/plain": [
       "- : exp = Numb 5\n"
      ]
     },
     "execution_count": 22,
     "metadata": {},
     "output_type": "execute_result"
    },
    {
     "data": {
      "text/plain": [
       "- : exp = Op (Numb 3, Plus, Numb 8)\n"
      ]
     },
     "execution_count": 22,
     "metadata": {},
     "output_type": "execute_result"
    },
    {
     "data": {
      "text/plain": [
       "- : exp = Op (Numb 2, Mult, Op (Numb 3, Plus, Numb 8))\n"
      ]
     },
     "execution_count": 22,
     "metadata": {},
     "output_type": "execute_result"
    },
    {
     "data": {
      "text/plain": [
       "- : exp = Op (Op (Numb 3, Minus, Numb 2), Div, Numb 0)\n"
      ]
     },
     "execution_count": 22,
     "metadata": {},
     "output_type": "execute_result"
    }
   ],
   "source": [
    "(* Representing the expression 5 *)\n",
    "Numb 5;;\n",
    "\n",
    "(* Representing the expression 3 + 8 *)\n",
    "Op (Numb 3, Plus, Numb 8);; \n",
    "\n",
    "(* Representing the expression 2 * (3 + 8) *)\n",
    "Op (Numb 2, Mult, Op (Numb 3, Plus, Numb 8));;\n",
    "\n",
    "(* Representing the expressions (3 - 2)%0 *)\n",
    "Op (Op (Numb 3, Minus, Numb 2), Div, Numb 0)"
   ]
  },
  {
   "cell_type": "markdown",
   "id": "f70739e4",
   "metadata": {},
   "source": [
    "We define an **interpreter**, ``eval : exp -> int`` that **evaluates** an expression to an ``int`` by traversing the expression. \n",
    "\n",
    "Note that we use a custom **exception**, that allows us to throw errors to inform the user of a problem we encountered. \n",
    "See the introduction of https://cs3110.github.io/textbook/chapters/data/exceptions.html to be reminded of the corresponding syntax.\n",
    "\n",
    "Here, we define an exception which will allow us to throw a RuntimeError - and gives back information of type string."
   ]
  },
  {
   "cell_type": "code",
   "execution_count": 23,
   "id": "7b989a00",
   "metadata": {},
   "outputs": [
    {
     "data": {
      "text/plain": [
       "exception RuntimeError of string\n"
      ]
     },
     "execution_count": 23,
     "metadata": {},
     "output_type": "execute_result"
    },
    {
     "data": {
      "text/plain": [
       "val eval : exp -> int = <fun>\n"
      ]
     },
     "execution_count": 23,
     "metadata": {},
     "output_type": "execute_result"
    }
   ],
   "source": [
    "exception RuntimeError of string\n",
    "\n",
    "let rec eval (e : exp) : int = match e with \n",
    "    | Numb n -> n \n",
    "    | Op (e1, Plus, e2) -> eval e1 + eval e2\n",
    "    | Op (e1, Minus, e2) -> eval e1 - eval e2 \n",
    "    | Op (e1, Mult, e2) -> eval e1 * eval e2 \n",
    "    | Op (e1, Div, e2) -> (match (eval e2) with \n",
    "                          | 0 -> raise (RuntimeError \"Divison by 0\")\n",
    "                          | _ -> eval e1 / eval e2)"
   ]
  },
  {
   "cell_type": "markdown",
   "id": "6121487e",
   "metadata": {},
   "source": [
    "We **traverse** the syntax tree of ``e``. \n",
    "- If we encounter a number ``Numb n``, the result is simply the carried ``int``. \n",
    "- If we encounter the addition operation,  ``Op (e1, Plus, e2)``, we evaluate both expressions (the results will be of type ``int``) and add the two results together. \n",
    "- In the case of division we check that the second expression doesn't result in ``0``; otherwise, we throw a runtime error."
   ]
  },
  {
   "cell_type": "markdown",
   "id": "d5885d22",
   "metadata": {},
   "source": [
    "Here are some examples:"
   ]
  },
  {
   "cell_type": "code",
   "execution_count": 5,
   "id": "b36e17e4",
   "metadata": {},
   "outputs": [],
   "source": [
    "eval (Numb 5)"
   ]
  },
  {
   "cell_type": "code",
   "execution_count": null,
   "id": "4ae68256",
   "metadata": {},
   "outputs": [],
   "source": [
    "eval (Op (Numb 3, Plus, Numb 8))"
   ]
  },
  {
   "cell_type": "code",
   "execution_count": null,
   "id": "05311523",
   "metadata": {},
   "outputs": [],
   "source": [
    "eval (Op (Numb 2, Mult, Op (Numb 3, Plus, Numb 8)))"
   ]
  },
  {
   "cell_type": "code",
   "execution_count": null,
   "id": "efc2e880",
   "metadata": {},
   "outputs": [],
   "source": [
    "eval (Op (Op (Numb 3, Minus, Numb 2), Div, Numb 0))"
   ]
  },
  {
   "cell_type": "markdown",
   "id": "2c3a5da2",
   "metadata": {},
   "source": [
    "## Adding assignments (and contexts)\n",
    "\n",
    "Next we add in assignments and statements. "
   ]
  },
  {
   "cell_type": "code",
   "execution_count": 6,
   "id": "e08d4830",
   "metadata": {},
   "outputs": [],
   "source": [
    "type op = Plus | Minus | Mult | Div \n",
    "type exp = Id of string (* NEW *)\n",
    "          | Numb of int | Op of exp * op * exp \n",
    "type cmd = Asgn of string * exp\n",
    "type program = P of cmd list * exp"
   ]
  },
  {
   "cell_type": "markdown",
   "id": "a10c5923",
   "metadata": {},
   "source": [
    "Here is an example program: "
   ]
  },
  {
   "cell_type": "code",
   "execution_count": 7,
   "id": "dd312601",
   "metadata": {},
   "outputs": [],
   "source": [
    "let p : program = \n",
    "P ([Asgn (\"x\", Numb 3); Asgn (\"y\", Numb 4)], Op (Id \"x\", Plus, Id \"y\"))"
   ]
  },
  {
   "cell_type": "markdown",
   "id": "4067c651",
   "metadata": {},
   "source": [
    "Remember that this means that we require an environment. \n",
    "Environments are dictionaries that map variable names to values. Whenever we require the value of a variable, we can look it up in the dictionary.\n",
    "\n",
    "We use a pre-defined definition of a Map: \n",
    "\n",
    "(Don't worru about the specific details of the definition - all you need to do is use the functions Env.empty, Env.add, and Env.find.\n",
    "If you want to know more about the details of modules, see the documentation: https://ocaml.org/docs/modules)"
   ]
  },
  {
   "cell_type": "code",
   "execution_count": 8,
   "id": "4826b0a6",
   "metadata": {},
   "outputs": [],
   "source": [
    "(* This will define maps with strings as key *)\n",
    "module Env = Map.Make(String)\n",
    "\n",
    "(* Env.empty denotes the empty environment. \n",
    "We can add elements to an environment via Env.add.\n",
    "This is the environment which only binds “a” to 3. *)\n",
    "let example_env = Env.add \"a\" 3 Env.empty;;\n",
    "\n",
    "(* We can look up elements in an environment via Env.find.\n",
    "Env.find throws an exception if the key does not exist.*)\n",
    "Env.find \"a\" example_env;;"
   ]
  },
  {
   "cell_type": "markdown",
   "id": "97152d2b",
   "metadata": {},
   "source": [
    "Can you guess what is the result of the following expresssion? "
   ]
  },
  {
   "cell_type": "code",
   "execution_count": 24,
   "id": "236fb3eb",
   "metadata": {},
   "outputs": [
    {
     "data": {
      "text/plain": [
       "- : int = 3\n"
      ]
     },
     "execution_count": 24,
     "metadata": {},
     "output_type": "execute_result"
    }
   ],
   "source": [
    "Env.find \"y\" (Env.add \"x\" 5 (Env.add \"y\" 3 Env.empty)) "
   ]
  },
  {
   "cell_type": "markdown",
   "id": "32805b3c",
   "metadata": {},
   "source": [
    "That's enough to write an interpreter with assignments: "
   ]
  },
  {
   "cell_type": "code",
   "execution_count": 9,
   "id": "a4a04c33",
   "metadata": {},
   "outputs": [],
   "source": [
    "(* Gets an expression and an environment, and yield an int *)\n",
    "let rec eval (e : exp) env : int = match e with \n",
    "    | Id x -> Env.find x env\n",
    "    | Numb n -> n \n",
    "    | Op (e1, Plus, e2) -> eval e1 env + eval e2 env\n",
    "    | Op (e1, Minus, e2) -> eval e1 env - eval e2 env\n",
    "    | Op (e1, Mult, e2) -> eval e1 env * eval e2 env\n",
    "    | Op (e1, Div, e2) -> (match (eval e2 env) with \n",
    "                          | 0 -> raise (RuntimeError \"Divison by 0\")\n",
    "                          | _ -> eval e1 env / eval e2 env)\n",
    "\n",
    "(* Gets a command list and an environment, and yield a new environment *)\n",
    "let rec eval_context (cs : cmd list) env = match cs with \n",
    "    | [] -> env\n",
    "    | Asgn (x, e) :: cs -> let env' = Env.add x (eval e env) env\n",
    "                           in eval_context cs env'\n",
    "\n",
    "(* Gets a command list and an expression - evaluates to a new environment, and then \n",
    "evaluates the expression in this environment *)\n",
    "let eval_program (P (cs, e)) = let env = eval_context cs Env.empty \n",
    "                                 in eval e env\n"
   ]
  },
  {
   "cell_type": "markdown",
   "id": "912bbe88",
   "metadata": {},
   "source": [
    "Here's an example of an evaluation:"
   ]
  },
  {
   "cell_type": "code",
   "execution_count": 10,
   "id": "03084ff1",
   "metadata": {},
   "outputs": [],
   "source": [
    "let example_program : program = P \n",
    "([Asgn (\"x\", Numb 3); Asgn (\"y\", Numb 4); Asgn (\"x\", Numb 5)], \n",
    "Op (Id \"x\", Plus, Id \"y\"));;\n",
    "\n",
    "eval_program example_program"
   ]
  },
  {
   "cell_type": "markdown",
   "id": "39001966",
   "metadata": {},
   "source": [
    "## An Interpreter for SIMP\n",
    "\n",
    "We now come to an interpreter for the whole of SIMP. \n",
    "Let's start with the reprsentation of SIMP as an abstract data type.\n",
    "\n",
    "Note that because of the block (``Begin program``), commands require the definition of a program - and programs require the definition of commands. \n",
    "We also say that programs and commands are **mutually recursive**. \n",
    "\n",
    "In OCaml, this means that we have to define the two data types ``cmd`` and ``program`` at the same time. \n",
    "We combine the two via an ``and`` (the same is valid or the later functions.)"
   ]
  },
  {
   "cell_type": "code",
   "execution_count": 26,
   "id": "a821ba9d",
   "metadata": {},
   "outputs": [
    {
     "data": {
      "text/plain": [
       "type op = Plus | Minus | Mult | Div\n"
      ]
     },
     "execution_count": 26,
     "metadata": {},
     "output_type": "execute_result"
    },
    {
     "data": {
      "text/plain": [
       "type exp = Id of string | Numb of int | Op of exp * op * exp\n"
      ]
     },
     "execution_count": 26,
     "metadata": {},
     "output_type": "execute_result"
    },
    {
     "data": {
      "text/plain": [
       "type cond = Eq | Neq | Lte | Lt | Gte | Gt\n"
      ]
     },
     "execution_count": 26,
     "metadata": {},
     "output_type": "execute_result"
    },
    {
     "data": {
      "text/plain": [
       "type condexp = Cop of exp * cond * exp\n"
      ]
     },
     "execution_count": 26,
     "metadata": {},
     "output_type": "execute_result"
    },
    {
     "data": {
      "text/plain": [
       "type cmd =\n",
       "    Asgn of string * exp\n",
       "  | Ite of condexp * cmd * cmd\n",
       "  | If of condexp * cmd\n",
       "  | While of condexp * cmd\n",
       "  | Begin of program\n",
       "  | Print of exp\n",
       "and program = Program of string list * cmd list\n"
      ]
     },
     "execution_count": 26,
     "metadata": {},
     "output_type": "execute_result"
    }
   ],
   "source": [
    "type op = Plus | Minus | Mult | Div \n",
    "\n",
    "type exp = Id of string | Numb of int | Op of exp * op * exp \n",
    "\n",
    "type cond = Eq | Neq | Lte | Lt | Gte | Gt \n",
    "type condexp = Cop of exp * cond * exp\n",
    "                                          \n",
    "type cmd = Asgn of string * exp \n",
    "         | Ite of condexp * cmd * cmd | If of condexp * cmd \n",
    "         | While of condexp * cmd\n",
    "         | Begin of program \n",
    "         | Print of exp \n",
    "         \n",
    "and program = Program of string list * cmd list"
   ]
  },
  {
   "cell_type": "markdown",
   "id": "6b3a2d15",
   "metadata": {},
   "source": [
    "We now come to the definition of evaluation for Simp. \n",
    "\n",
    "We evaluate the comparisons to ``1`` if true and ``0`` otherwise. \n",
    "This allows us to define evaluation for ``if`` and ``while``. \n",
    "\n",
    "In the case of printing, we use OCaml's predefined printing function ``print_endline``. (Please use only this function, as Jupyter notebooks might otherwise not print out what you expect.) \n",
    "We can concatenate strings via `^`."
   ]
  },
  {
   "cell_type": "code",
   "execution_count": 28,
   "id": "736e01b1",
   "metadata": {},
   "outputs": [
    {
     "data": {
      "text/plain": [
       "val eval : exp -> int Env.t -> int = <fun>\n"
      ]
     },
     "execution_count": 28,
     "metadata": {},
     "output_type": "execute_result"
    },
    {
     "data": {
      "text/plain": [
       "val eval_condexp : condexp -> int Env.t -> int = <fun>\n"
      ]
     },
     "execution_count": 28,
     "metadata": {},
     "output_type": "execute_result"
    },
    {
     "data": {
      "text/plain": [
       "val eval_cmd : cmd -> int Env.t -> int Env.t = <fun>\n",
       "val eval_program : program -> int Env.t -> int Env.t = <fun>\n",
       "val eval_commands : cmd list -> int Env.t -> int Env.t = <fun>\n"
      ]
     },
     "execution_count": 28,
     "metadata": {},
     "output_type": "execute_result"
    }
   ],
   "source": [
    "let rec eval (e : exp) env : int = match e with \n",
    "    | Id x -> Env.find x env \n",
    "    | Numb n -> n \n",
    "    | Op (e1, Plus, e2) -> eval e1 env + eval e2 env\n",
    "    | Op (e1, Minus, e2) -> eval e1 env - eval e2 env\n",
    "    | Op (e1, Mult, e2) -> eval e1 env * eval e2 env\n",
    "    | Op (e1, Div, e2) ->  (match (eval e2 env) with \n",
    "                          | 0 -> raise (RuntimeError \"Divison by 0\")\n",
    "                          | _ -> eval e1 env / eval e2 env)\n",
    "                          \n",
    "let eval_condexp (e : condexp) env : int = match e with                          \n",
    "    | Cop (e1, Eq, e2) -> if (eval e1 env = eval e2 env) then 1 else 0\n",
    "    | Cop (e1, Neq, e2) -> if (eval e1 env = eval e2 env) then 0 else 1\n",
    "    | Cop (e1, Lte, e2) -> if (eval e1 env <= eval e2 env) then 1 else 0\n",
    "    | Cop (e1, Lt, e2) -> if (eval e1 env < eval e2 env) then 1 else 0\n",
    "    | Cop (e1, Gte, e2) -> if (eval e1 env >= eval e2 env) then 1 else 0\n",
    "    | Cop (e1, Gt, e2) -> if (eval e1 env > eval e2 env) then 1 else 0\n",
    "\n",
    "let rec eval_cmd (c : cmd) env  = match c with \n",
    "    | Asgn (x, e) -> Env.add x (eval e env) env\n",
    "    | If (e, c) -> (match (eval_condexp e env) with \n",
    "                        | 1 -> eval_cmd c env \n",
    "                        | 0 -> env\n",
    "                        | _ -> raise (RuntimeError \"Error in condition of If\")\n",
    "                        )\n",
    "    | Ite (e, c1, c2) -> (match (eval_condexp e env) with \n",
    "                        | 1 -> eval_cmd c1 env \n",
    "                        | 0 -> eval_cmd c2 env\n",
    "                        | _ -> raise (RuntimeError \"Error in condition of If\"))\n",
    "    | While (e, c) -> (match (eval_condexp e env) with \n",
    "                        | 1 -> eval_cmd (While (e, c)) (eval_cmd c env)\n",
    "                        | _ -> env)\n",
    "    | Begin p -> let _ = eval_program p env in env\n",
    "    | Print e -> let _ = print_endline (\"OUTPUT:\" ^ string_of_int (eval e env)) in env\n",
    "    \n",
    "and eval_program p env = match p with \n",
    "    | Program (xs, cmds) -> eval_commands cmds Env.empty\n",
    "\n",
    "and eval_commands (cs : cmd list) env = match cs with \n",
    "    | [] -> env\n",
    "    | c :: cs -> eval_commands cs (eval_cmd c env)"
   ]
  },
  {
   "cell_type": "markdown",
   "id": "b554bb68",
   "metadata": {},
   "source": [
    "Here is an example:"
   ]
  },
  {
   "cell_type": "code",
   "execution_count": 29,
   "id": "377b50ab",
   "metadata": {},
   "outputs": [
    {
     "data": {
      "text/plain": [
       "val p : program =\n",
       "  Program ([], [Asgn (\"x\", Numb 3); Asgn (\"x\", Numb 4); Print (Id \"x\")])\n"
      ]
     },
     "execution_count": 29,
     "metadata": {},
     "output_type": "execute_result"
    },
    {
     "name": "stdout",
     "output_type": "stream",
     "text": [
      "OUTPUT:4\n"
     ]
    },
    {
     "data": {
      "text/plain": [
       "- : int Env.t = <abstr>\n"
      ]
     },
     "execution_count": 29,
     "metadata": {},
     "output_type": "execute_result"
    },
    {
     "ename": "interrupt",
     "evalue": "intterupt",
     "output_type": "error",
     "traceback": [
      "\u001b[31mException: Sys.Break.\u001b[0m"
     ]
    },
    {
     "ename": "interrupt",
     "evalue": "intterupt",
     "output_type": "error",
     "traceback": [
      "\u001b[31mException: Sys.Break.\u001b[0m"
     ]
    },
    {
     "ename": "interrupt",
     "evalue": "intterupt",
     "output_type": "error",
     "traceback": [
      "\u001b[31mException: Sys.Break.\u001b[0m"
     ]
    }
   ],
   "source": [
    "let p = Program ([], [Asgn (\"x\", Numb 3); Asgn (\"x\", Numb 4); Print (Id \"x\")]);;\n",
    "\n",
    "eval_program p Env.empty;;"
   ]
  },
  {
   "cell_type": "code",
   "execution_count": null,
   "id": "24568d97",
   "metadata": {},
   "outputs": [],
   "source": []
  }
 ],
 "metadata": {
  "kernelspec": {
   "display_name": "OCaml 4.13",
   "language": "OCaml",
   "name": "ocaml-jupyter-4.13"
  },
  "language_info": {
   "codemirror_mode": "text/x-ocaml",
   "file_extension": ".ml",
   "mimetype": "text/x-ocaml",
   "name": "OCaml",
   "nbconverter_exporter": null,
   "pygments_lexer": "OCaml",
   "version": "4.13.1"
  }
 },
 "nbformat": 4,
 "nbformat_minor": 5
}
